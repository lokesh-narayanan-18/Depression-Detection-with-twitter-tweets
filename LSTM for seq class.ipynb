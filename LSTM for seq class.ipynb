{
 "cells": [
  {
   "cell_type": "code",
   "execution_count": 12,
   "metadata": {},
   "outputs": [
    {
     "name": "stdout",
     "output_type": "stream",
     "text": [
      "cuda_malloc_async\n"
     ]
    }
   ],
   "source": [
    "import os\n",
    "os.environ['TF_GPU_ALLOCATOR'] = 'cuda_malloc_async'\n",
    "print(os.getenv('TF_GPU_ALLOCATOR'))"
   ]
  },
  {
   "cell_type": "code",
   "execution_count": 13,
   "metadata": {},
   "outputs": [],
   "source": [
    "import numpy as np\n",
    "import pandas as pd\n",
    "from keras.layers import Dense, Input, LSTM, Bidirectional, Conv1D,GRU\n",
    "from keras.layers import Dropout, Embedding\n",
    "from keras.preprocessing import text, sequence\n",
    "from keras.layers import GlobalMaxPooling1D, GlobalAveragePooling1D, concatenate, SpatialDropout1D\n",
    "from keras.models import Model\n",
    "import numpy as np\n",
    "import pandas as pd\n",
    "from collections import Counter\n",
    "from sklearn.datasets import make_classification\n",
    "from matplotlib import pyplot\n",
    "from numpy import where\n",
    "from imblearn.over_sampling import SMOTE\n",
    "from sklearn.model_selection import train_test_split\n",
    "from imblearn.over_sampling import RandomOverSampler\n",
    "import tensorflow as tf\n",
    "from sklearn.feature_extraction.text import CountVectorizer\n",
    "from sklearn.feature_extraction.text import TfidfTransformer\n",
    "from sklearn.metrics import recall_score,f1_score"
   ]
  },
  {
   "cell_type": "code",
   "execution_count": 14,
   "metadata": {},
   "outputs": [
    {
     "name": "stdout",
     "output_type": "stream",
     "text": [
      "[name: \"/device:CPU:0\"\n",
      "device_type: \"CPU\"\n",
      "memory_limit: 268435456\n",
      "locality {\n",
      "}\n",
      "incarnation: 5232647576128817934\n",
      "xla_global_id: -1\n",
      "]\n"
     ]
    }
   ],
   "source": [
    "from tensorflow.python.client import device_lib \n",
    "print(device_lib.list_local_devices())"
   ]
  },
  {
   "cell_type": "code",
   "execution_count": 11,
   "metadata": {},
   "outputs": [
    {
     "data": {
      "text/plain": [
       "[]"
      ]
     },
     "execution_count": 11,
     "metadata": {},
     "output_type": "execute_result"
    }
   ],
   "source": [
    "import tensorflow as tf\n",
    "tf.config.list_physical_devices('GPU')"
   ]
  },
  {
   "attachments": {},
   "cell_type": "markdown",
   "metadata": {},
   "source": [
    "# Data Preprocessing for Language-English"
   ]
  },
  {
   "cell_type": "code",
   "execution_count": 15,
   "metadata": {},
   "outputs": [
    {
     "data": {
      "text/html": [
       "<div>\n",
       "<style scoped>\n",
       "    .dataframe tbody tr th:only-of-type {\n",
       "        vertical-align: middle;\n",
       "    }\n",
       "\n",
       "    .dataframe tbody tr th {\n",
       "        vertical-align: top;\n",
       "    }\n",
       "\n",
       "    .dataframe thead th {\n",
       "        text-align: right;\n",
       "    }\n",
       "</style>\n",
       "<table border=\"1\" class=\"dataframe\">\n",
       "  <thead>\n",
       "    <tr style=\"text-align: right;\">\n",
       "      <th></th>\n",
       "      <th>PID</th>\n",
       "      <th>Text_data</th>\n",
       "      <th>Label</th>\n",
       "    </tr>\n",
       "  </thead>\n",
       "  <tbody>\n",
       "    <tr>\n",
       "      <th>0</th>\n",
       "      <td>train_pid_1</td>\n",
       "      <td>Waiting for my mind to have a breakdown once t...</td>\n",
       "      <td>moderate</td>\n",
       "    </tr>\n",
       "    <tr>\n",
       "      <th>1</th>\n",
       "      <td>train_pid_2</td>\n",
       "      <td>My new years resolution : I'm gonna get my ass...</td>\n",
       "      <td>moderate</td>\n",
       "    </tr>\n",
       "    <tr>\n",
       "      <th>2</th>\n",
       "      <td>train_pid_3</td>\n",
       "      <td>New year : Somone else Feeling like 2020 will ...</td>\n",
       "      <td>moderate</td>\n",
       "    </tr>\n",
       "    <tr>\n",
       "      <th>3</th>\n",
       "      <td>train_pid_4</td>\n",
       "      <td>My story I guess : Hi, Im from Germany and my ...</td>\n",
       "      <td>moderate</td>\n",
       "    </tr>\n",
       "    <tr>\n",
       "      <th>4</th>\n",
       "      <td>train_pid_5</td>\n",
       "      <td>Sat in the dark and cried myself going into th...</td>\n",
       "      <td>moderate</td>\n",
       "    </tr>\n",
       "  </tbody>\n",
       "</table>\n",
       "</div>"
      ],
      "text/plain": [
       "           PID                                          Text_data     Label\n",
       "0  train_pid_1  Waiting for my mind to have a breakdown once t...  moderate\n",
       "1  train_pid_2  My new years resolution : I'm gonna get my ass...  moderate\n",
       "2  train_pid_3  New year : Somone else Feeling like 2020 will ...  moderate\n",
       "3  train_pid_4  My story I guess : Hi, Im from Germany and my ...  moderate\n",
       "4  train_pid_5  Sat in the dark and cried myself going into th...  moderate"
      ]
     },
     "execution_count": 15,
     "metadata": {},
     "output_type": "execute_result"
    }
   ],
   "source": [
    "train = pd.read_csv(\"C:/Users/lokes/Downloads/train.tsv\",delimiter=\"\\t\").fillna(\" \")\n",
    "train.head()"
   ]
  },
  {
   "cell_type": "code",
   "execution_count": 17,
   "metadata": {},
   "outputs": [
    {
     "data": {
      "text/plain": [
       "Label\n",
       "moderate          6004\n",
       "not depression    1985\n",
       "severe             902\n",
       "Name: count, dtype: int64"
      ]
     },
     "execution_count": 17,
     "metadata": {},
     "output_type": "execute_result"
    }
   ],
   "source": [
    "train[\"Label\"].value_counts()"
   ]
  },
  {
   "cell_type": "code",
   "execution_count": 18,
   "metadata": {},
   "outputs": [
    {
     "data": {
      "text/html": [
       "<div>\n",
       "<style scoped>\n",
       "    .dataframe tbody tr th:only-of-type {\n",
       "        vertical-align: middle;\n",
       "    }\n",
       "\n",
       "    .dataframe tbody tr th {\n",
       "        vertical-align: top;\n",
       "    }\n",
       "\n",
       "    .dataframe thead th {\n",
       "        text-align: right;\n",
       "    }\n",
       "</style>\n",
       "<table border=\"1\" class=\"dataframe\">\n",
       "  <thead>\n",
       "    <tr style=\"text-align: right;\">\n",
       "      <th></th>\n",
       "      <th>PID</th>\n",
       "      <th>Text_data</th>\n",
       "      <th>Label</th>\n",
       "    </tr>\n",
       "  </thead>\n",
       "  <tbody>\n",
       "    <tr>\n",
       "      <th>0</th>\n",
       "      <td>train_pid_1</td>\n",
       "      <td>Waiting for my mind to have a breakdown once t...</td>\n",
       "      <td>moderate</td>\n",
       "    </tr>\n",
       "    <tr>\n",
       "      <th>1</th>\n",
       "      <td>train_pid_2</td>\n",
       "      <td>My new years resolution : I'm gonna get my ass...</td>\n",
       "      <td>moderate</td>\n",
       "    </tr>\n",
       "    <tr>\n",
       "      <th>2</th>\n",
       "      <td>train_pid_3</td>\n",
       "      <td>New year : Somone else Feeling like 2020 will ...</td>\n",
       "      <td>moderate</td>\n",
       "    </tr>\n",
       "    <tr>\n",
       "      <th>3</th>\n",
       "      <td>train_pid_4</td>\n",
       "      <td>My story I guess : Hi, Im from Germany and my ...</td>\n",
       "      <td>moderate</td>\n",
       "    </tr>\n",
       "    <tr>\n",
       "      <th>4</th>\n",
       "      <td>train_pid_5</td>\n",
       "      <td>Sat in the dark and cried myself going into th...</td>\n",
       "      <td>moderate</td>\n",
       "    </tr>\n",
       "  </tbody>\n",
       "</table>\n",
       "</div>"
      ],
      "text/plain": [
       "           PID                                          Text_data     Label\n",
       "0  train_pid_1  Waiting for my mind to have a breakdown once t...  moderate\n",
       "1  train_pid_2  My new years resolution : I'm gonna get my ass...  moderate\n",
       "2  train_pid_3  New year : Somone else Feeling like 2020 will ...  moderate\n",
       "3  train_pid_4  My story I guess : Hi, Im from Germany and my ...  moderate\n",
       "4  train_pid_5  Sat in the dark and cried myself going into th...  moderate"
      ]
     },
     "execution_count": 18,
     "metadata": {},
     "output_type": "execute_result"
    }
   ],
   "source": [
    "train.head()"
   ]
  },
  {
   "cell_type": "code",
   "execution_count": 19,
   "metadata": {},
   "outputs": [
    {
     "data": {
      "text/plain": [
       "(8891, 3)"
      ]
     },
     "execution_count": 19,
     "metadata": {},
     "output_type": "execute_result"
    }
   ],
   "source": [
    "train_x = train[\"Text_data\"].str.lower()\n",
    "train_y = train[\"Label\"]\n",
    "train_y = pd.get_dummies(train_y,columns=train_y).values\n",
    "train_y.shape"
   ]
  },
  {
   "cell_type": "code",
   "execution_count": 20,
   "metadata": {},
   "outputs": [
    {
     "data": {
      "text/plain": [
       "(8891,)"
      ]
     },
     "execution_count": 20,
     "metadata": {},
     "output_type": "execute_result"
    }
   ],
   "source": [
    "train_x.shape"
   ]
  },
  {
   "cell_type": "code",
   "execution_count": 21,
   "metadata": {},
   "outputs": [],
   "source": [
    "max_features = 100000\n",
    "maxlen = 150"
   ]
  },
  {
   "cell_type": "code",
   "execution_count": 22,
   "metadata": {},
   "outputs": [],
   "source": [
    "from tensorflow.keras.preprocessing.sequence import pad_sequences\n",
    "tokenizer = text.Tokenizer(num_words=max_features)\n",
    "tokenizer.fit_on_texts(list(train_x))\n",
    "\n",
    "train_x = tokenizer.texts_to_sequences(train_x)\n",
    "train_x = pad_sequences(train_x,maxlen=maxlen)"
   ]
  },
  {
   "cell_type": "code",
   "execution_count": 23,
   "metadata": {},
   "outputs": [],
   "source": [
    "train_x,trainxval,train_y,train_yval=train_test_split(train_x,train_y,test_size=0.2)"
   ]
  },
  {
   "cell_type": "code",
   "execution_count": 24,
   "metadata": {},
   "outputs": [
    {
     "name": "stdout",
     "output_type": "stream",
     "text": [
      "Num GPUs Available:  0\n"
     ]
    }
   ],
   "source": [
    "print(\"Num GPUs Available: \", len(tf.config.list_physical_devices('GPU')))\n",
    "tf.debugging.set_log_device_placement(True)"
   ]
  },
  {
   "attachments": {},
   "cell_type": "markdown",
   "metadata": {},
   "source": [
    "# LSTM model for Language-English (Unbalanced Data)"
   ]
  },
  {
   "cell_type": "code",
   "execution_count": 25,
   "metadata": {},
   "outputs": [
    {
     "name": "stdout",
     "output_type": "stream",
     "text": [
      "Executing op _EagerConst in device /job:localhost/replica:0/task:0/device:CPU:0\n",
      "Executing op _EagerConst in device /job:localhost/replica:0/task:0/device:CPU:0\n",
      "Executing op _EagerConst in device /job:localhost/replica:0/task:0/device:CPU:0\n",
      "Executing op _EagerConst in device /job:localhost/replica:0/task:0/device:CPU:0\n",
      "Executing op StatelessRandomGetKeyCounter in device /job:localhost/replica:0/task:0/device:CPU:0\n",
      "Executing op _EagerConst in device /job:localhost/replica:0/task:0/device:CPU:0\n",
      "Executing op StatelessRandomUniformV2 in device /job:localhost/replica:0/task:0/device:CPU:0\n",
      "Executing op Sub in device /job:localhost/replica:0/task:0/device:CPU:0\n",
      "Executing op Mul in device /job:localhost/replica:0/task:0/device:CPU:0\n",
      "Executing op AddV2 in device /job:localhost/replica:0/task:0/device:CPU:0\n",
      "Executing op VarHandleOp in device /job:localhost/replica:0/task:0/device:CPU:0\n",
      "Executing op AssignVariableOp in device /job:localhost/replica:0/task:0/device:CPU:0\n",
      "Executing op _EagerConst in device /job:localhost/replica:0/task:0/device:CPU:0\n",
      "Executing op _EagerConst in device /job:localhost/replica:0/task:0/device:CPU:0\n",
      "Executing op _EagerConst in device /job:localhost/replica:0/task:0/device:CPU:0\n",
      "Executing op _EagerConst in device /job:localhost/replica:0/task:0/device:CPU:0\n",
      "Executing op StatelessRandomGetKeyCounter in device /job:localhost/replica:0/task:0/device:CPU:0\n",
      "Executing op StatelessRandomUniformV2 in device /job:localhost/replica:0/task:0/device:CPU:0\n",
      "Executing op Sub in device /job:localhost/replica:0/task:0/device:CPU:0\n",
      "Executing op Mul in device /job:localhost/replica:0/task:0/device:CPU:0\n",
      "Executing op AddV2 in device /job:localhost/replica:0/task:0/device:CPU:0\n",
      "Executing op VarHandleOp in device /job:localhost/replica:0/task:0/device:CPU:0\n",
      "Executing op AssignVariableOp in device /job:localhost/replica:0/task:0/device:CPU:0\n",
      "Executing op _EagerConst in device /job:localhost/replica:0/task:0/device:CPU:0\n",
      "Executing op _EagerConst in device /job:localhost/replica:0/task:0/device:CPU:0\n",
      "Executing op _EagerConst in device /job:localhost/replica:0/task:0/device:CPU:0\n",
      "Executing op _EagerConst in device /job:localhost/replica:0/task:0/device:CPU:0\n",
      "Executing op StatelessRandomGetKeyCounter in device /job:localhost/replica:0/task:0/device:CPU:0\n",
      "Executing op StatelessRandomNormalV2 in device /job:localhost/replica:0/task:0/device:CPU:0\n",
      "Executing op Mul in device /job:localhost/replica:0/task:0/device:CPU:0\n",
      "Executing op AddV2 in device /job:localhost/replica:0/task:0/device:CPU:0\n",
      "Executing op Qr in device /job:localhost/replica:0/task:0/device:CPU:0\n",
      "Executing op DiagPart in device /job:localhost/replica:0/task:0/device:CPU:0\n",
      "Executing op Sign in device /job:localhost/replica:0/task:0/device:CPU:0\n",
      "Executing op Mul in device /job:localhost/replica:0/task:0/device:CPU:0\n",
      "Executing op _EagerConst in device /job:localhost/replica:0/task:0/device:CPU:0\n",
      "Executing op Transpose in device /job:localhost/replica:0/task:0/device:CPU:0\n",
      "Executing op _EagerConst in device /job:localhost/replica:0/task:0/device:CPU:0\n",
      "Executing op Reshape in device /job:localhost/replica:0/task:0/device:CPU:0\n",
      "Executing op Mul in device /job:localhost/replica:0/task:0/device:CPU:0\n",
      "Executing op VarHandleOp in device /job:localhost/replica:0/task:0/device:CPU:0\n",
      "Executing op AssignVariableOp in device /job:localhost/replica:0/task:0/device:CPU:0\n",
      "Executing op _EagerConst in device /job:localhost/replica:0/task:0/device:CPU:0\n",
      "Executing op _EagerConst in device /job:localhost/replica:0/task:0/device:CPU:0\n",
      "Executing op Fill in device /job:localhost/replica:0/task:0/device:CPU:0\n",
      "Executing op _EagerConst in device /job:localhost/replica:0/task:0/device:CPU:0\n",
      "Executing op _EagerConst in device /job:localhost/replica:0/task:0/device:CPU:0\n",
      "Executing op Fill in device /job:localhost/replica:0/task:0/device:CPU:0\n",
      "Executing op _EagerConst in device /job:localhost/replica:0/task:0/device:CPU:0\n",
      "Executing op Fill in device /job:localhost/replica:0/task:0/device:CPU:0\n",
      "Executing op _EagerConst in device /job:localhost/replica:0/task:0/device:CPU:0\n",
      "Executing op ConcatV2 in device /job:localhost/replica:0/task:0/device:CPU:0\n",
      "Executing op VarHandleOp in device /job:localhost/replica:0/task:0/device:CPU:0\n",
      "Executing op AssignVariableOp in device /job:localhost/replica:0/task:0/device:CPU:0\n",
      "Executing op _EagerConst in device /job:localhost/replica:0/task:0/device:CPU:0\n",
      "Executing op _EagerConst in device /job:localhost/replica:0/task:0/device:CPU:0\n",
      "Executing op _EagerConst in device /job:localhost/replica:0/task:0/device:CPU:0\n",
      "Executing op _EagerConst in device /job:localhost/replica:0/task:0/device:CPU:0\n",
      "Executing op StatelessRandomGetKeyCounter in device /job:localhost/replica:0/task:0/device:CPU:0\n",
      "Executing op StatelessRandomUniformV2 in device /job:localhost/replica:0/task:0/device:CPU:0\n",
      "Executing op Sub in device /job:localhost/replica:0/task:0/device:CPU:0\n",
      "Executing op Mul in device /job:localhost/replica:0/task:0/device:CPU:0\n",
      "Executing op AddV2 in device /job:localhost/replica:0/task:0/device:CPU:0\n",
      "Executing op VarHandleOp in device /job:localhost/replica:0/task:0/device:CPU:0\n",
      "Executing op AssignVariableOp in device /job:localhost/replica:0/task:0/device:CPU:0\n",
      "Executing op _EagerConst in device /job:localhost/replica:0/task:0/device:CPU:0\n",
      "Executing op _EagerConst in device /job:localhost/replica:0/task:0/device:CPU:0\n",
      "Executing op StatelessRandomGetKeyCounter in device /job:localhost/replica:0/task:0/device:CPU:0\n",
      "Executing op StatelessRandomNormalV2 in device /job:localhost/replica:0/task:0/device:CPU:0\n",
      "Executing op Mul in device /job:localhost/replica:0/task:0/device:CPU:0\n",
      "Executing op AddV2 in device /job:localhost/replica:0/task:0/device:CPU:0\n",
      "Executing op Qr in device /job:localhost/replica:0/task:0/device:CPU:0\n",
      "Executing op DiagPart in device /job:localhost/replica:0/task:0/device:CPU:0\n",
      "Executing op Sign in device /job:localhost/replica:0/task:0/device:CPU:0\n",
      "Executing op Mul in device /job:localhost/replica:0/task:0/device:CPU:0\n",
      "Executing op _EagerConst in device /job:localhost/replica:0/task:0/device:CPU:0\n",
      "Executing op Transpose in device /job:localhost/replica:0/task:0/device:CPU:0\n",
      "Executing op _EagerConst in device /job:localhost/replica:0/task:0/device:CPU:0\n",
      "Executing op Reshape in device /job:localhost/replica:0/task:0/device:CPU:0\n",
      "Executing op Mul in device /job:localhost/replica:0/task:0/device:CPU:0\n",
      "Executing op VarHandleOp in device /job:localhost/replica:0/task:0/device:CPU:0\n",
      "Executing op AssignVariableOp in device /job:localhost/replica:0/task:0/device:CPU:0\n",
      "Executing op _EagerConst in device /job:localhost/replica:0/task:0/device:CPU:0\n",
      "Executing op Fill in device /job:localhost/replica:0/task:0/device:CPU:0\n",
      "Executing op _EagerConst in device /job:localhost/replica:0/task:0/device:CPU:0\n",
      "Executing op Fill in device /job:localhost/replica:0/task:0/device:CPU:0\n",
      "Executing op _EagerConst in device /job:localhost/replica:0/task:0/device:CPU:0\n",
      "Executing op Fill in device /job:localhost/replica:0/task:0/device:CPU:0\n",
      "Executing op ConcatV2 in device /job:localhost/replica:0/task:0/device:CPU:0\n",
      "Executing op VarHandleOp in device /job:localhost/replica:0/task:0/device:CPU:0\n",
      "Executing op AssignVariableOp in device /job:localhost/replica:0/task:0/device:CPU:0\n",
      "Executing op _EagerConst in device /job:localhost/replica:0/task:0/device:CPU:0\n",
      "Executing op _EagerConst in device /job:localhost/replica:0/task:0/device:CPU:0\n",
      "Executing op _EagerConst in device /job:localhost/replica:0/task:0/device:CPU:0\n",
      "Executing op _EagerConst in device /job:localhost/replica:0/task:0/device:CPU:0\n",
      "Executing op StatelessRandomGetKeyCounter in device /job:localhost/replica:0/task:0/device:CPU:0\n",
      "Executing op StatelessRandomUniformV2 in device /job:localhost/replica:0/task:0/device:CPU:0\n",
      "Executing op Sub in device /job:localhost/replica:0/task:0/device:CPU:0\n",
      "Executing op Mul in device /job:localhost/replica:0/task:0/device:CPU:0\n",
      "Executing op AddV2 in device /job:localhost/replica:0/task:0/device:CPU:0\n",
      "Executing op VarHandleOp in device /job:localhost/replica:0/task:0/device:CPU:0\n",
      "Executing op AssignVariableOp in device /job:localhost/replica:0/task:0/device:CPU:0\n",
      "Executing op _EagerConst in device /job:localhost/replica:0/task:0/device:CPU:0\n",
      "Executing op Fill in device /job:localhost/replica:0/task:0/device:CPU:0\n",
      "Executing op VarHandleOp in device /job:localhost/replica:0/task:0/device:CPU:0\n",
      "Executing op AssignVariableOp in device /job:localhost/replica:0/task:0/device:CPU:0\n",
      "Executing op _EagerConst in device /job:localhost/replica:0/task:0/device:CPU:0\n",
      "Executing op _EagerConst in device /job:localhost/replica:0/task:0/device:CPU:0\n",
      "Executing op _EagerConst in device /job:localhost/replica:0/task:0/device:CPU:0\n",
      "Executing op _EagerConst in device /job:localhost/replica:0/task:0/device:CPU:0\n",
      "Executing op StatelessRandomGetKeyCounter in device /job:localhost/replica:0/task:0/device:CPU:0\n",
      "Executing op StatelessRandomUniformV2 in device /job:localhost/replica:0/task:0/device:CPU:0\n",
      "Executing op Sub in device /job:localhost/replica:0/task:0/device:CPU:0\n",
      "Executing op Mul in device /job:localhost/replica:0/task:0/device:CPU:0\n",
      "Executing op AddV2 in device /job:localhost/replica:0/task:0/device:CPU:0\n",
      "Executing op VarHandleOp in device /job:localhost/replica:0/task:0/device:CPU:0\n",
      "Executing op AssignVariableOp in device /job:localhost/replica:0/task:0/device:CPU:0\n",
      "Executing op _EagerConst in device /job:localhost/replica:0/task:0/device:CPU:0\n",
      "Executing op Fill in device /job:localhost/replica:0/task:0/device:CPU:0\n",
      "Executing op VarHandleOp in device /job:localhost/replica:0/task:0/device:CPU:0\n",
      "Executing op AssignVariableOp in device /job:localhost/replica:0/task:0/device:CPU:0\n",
      "Executing op _EagerConst in device /job:localhost/replica:0/task:0/device:CPU:0\n",
      "Executing op VarHandleOp in device /job:localhost/replica:0/task:0/device:CPU:0\n",
      "Executing op AssignVariableOp in device /job:localhost/replica:0/task:0/device:CPU:0\n",
      "Executing op VarHandleOp in device /job:localhost/replica:0/task:0/device:CPU:0\n",
      "Executing op AssignVariableOp in device /job:localhost/replica:0/task:0/device:CPU:0\n",
      "Executing op VarHandleOp in device /job:localhost/replica:0/task:0/device:CPU:0\n",
      "Executing op AssignVariableOp in device /job:localhost/replica:0/task:0/device:CPU:0\n",
      "Executing op _EagerConst in device /job:localhost/replica:0/task:0/device:CPU:0\n",
      "Executing op Fill in device /job:localhost/replica:0/task:0/device:CPU:0\n",
      "Executing op VarHandleOp in device /job:localhost/replica:0/task:0/device:CPU:0\n",
      "Executing op AssignVariableOp in device /job:localhost/replica:0/task:0/device:CPU:0\n",
      "Executing op _EagerConst in device /job:localhost/replica:0/task:0/device:CPU:0\n",
      "Executing op Fill in device /job:localhost/replica:0/task:0/device:CPU:0\n",
      "Executing op VarHandleOp in device /job:localhost/replica:0/task:0/device:CPU:0\n",
      "Executing op AssignVariableOp in device /job:localhost/replica:0/task:0/device:CPU:0\n",
      "Executing op _EagerConst in device /job:localhost/replica:0/task:0/device:CPU:0\n",
      "Executing op VarHandleOp in device /job:localhost/replica:0/task:0/device:CPU:0\n",
      "Executing op AssignVariableOp in device /job:localhost/replica:0/task:0/device:CPU:0\n",
      "Executing op _EagerConst in device /job:localhost/replica:0/task:0/device:CPU:0\n",
      "Executing op _EagerConst in device /job:localhost/replica:0/task:0/device:CPU:0\n",
      "Executing op RangeDataset in device /job:localhost/replica:0/task:0/device:CPU:0\n",
      "Executing op _EagerConst in device /job:localhost/replica:0/task:0/device:CPU:0\n",
      "Executing op RepeatDataset in device /job:localhost/replica:0/task:0/device:CPU:0\n",
      "Executing op MapDataset in device /job:localhost/replica:0/task:0/device:CPU:0\n",
      "Executing op PrefetchDataset in device /job:localhost/replica:0/task:0/device:CPU:0\n",
      "Executing op FlatMapDataset in device /job:localhost/replica:0/task:0/device:CPU:0\n",
      "Executing op TensorDataset in device /job:localhost/replica:0/task:0/device:CPU:0\n",
      "Executing op _EagerConst in device /job:localhost/replica:0/task:0/device:CPU:0\n",
      "Executing op RepeatDataset in device /job:localhost/replica:0/task:0/device:CPU:0\n",
      "Executing op ZipDataset in device /job:localhost/replica:0/task:0/device:CPU:0\n",
      "Executing op ParallelMapDatasetV2 in device /job:localhost/replica:0/task:0/device:CPU:0\n",
      "Executing op OptionsDataset in device /job:localhost/replica:0/task:0/device:CPU:0\n",
      "Executing op OptionsDataset in device /job:localhost/replica:0/task:0/device:CPU:0\n",
      "Executing op ReadVariableOp in device /job:localhost/replica:0/task:0/device:CPU:0\n",
      "Executing op Identity in device /job:localhost/replica:0/task:0/device:CPU:0\n",
      "Executing op ReadVariableOp in device /job:localhost/replica:0/task:0/device:CPU:0\n",
      "Executing op Identity in device /job:localhost/replica:0/task:0/device:CPU:0\n",
      "Executing op ReadVariableOp in device /job:localhost/replica:0/task:0/device:CPU:0\n",
      "Executing op Identity in device /job:localhost/replica:0/task:0/device:CPU:0\n",
      "Executing op AssignVariableOp in device /job:localhost/replica:0/task:0/device:CPU:0\n",
      "Executing op ReadVariableOp in device /job:localhost/replica:0/task:0/device:CPU:0\n",
      "Executing op Identity in device /job:localhost/replica:0/task:0/device:CPU:0\n",
      "Executing op ReadVariableOp in device /job:localhost/replica:0/task:0/device:CPU:0\n",
      "Executing op Identity in device /job:localhost/replica:0/task:0/device:CPU:0\n",
      "Executing op AnonymousIteratorV3 in device /job:localhost/replica:0/task:0/device:CPU:0\n",
      "Executing op MakeIterator in device /job:localhost/replica:0/task:0/device:CPU:0\n",
      "Epoch 1/5\n",
      "Executing op ReadVariableOp in device /job:localhost/replica:0/task:0/device:CPU:0\n",
      "Executing op Identity in device /job:localhost/replica:0/task:0/device:CPU:0\n",
      "Executing op _EagerConst in device /job:localhost/replica:0/task:0/device:CPU:0\n",
      "Executing op Fill in device /job:localhost/replica:0/task:0/device:CPU:0\n",
      "Executing op VarHandleOp in device /job:localhost/replica:0/task:0/device:CPU:0\n",
      "Executing op AssignVariableOp in device /job:localhost/replica:0/task:0/device:CPU:0\n",
      "Executing op _EagerConst in device /job:localhost/replica:0/task:0/device:CPU:0\n",
      "Executing op VarHandleOp in device /job:localhost/replica:0/task:0/device:CPU:0\n",
      "Executing op AssignVariableOp in device /job:localhost/replica:0/task:0/device:CPU:0\n",
      "Executing op _EagerConst in device /job:localhost/replica:0/task:0/device:CPU:0\n",
      "Executing op VarHandleOp in device /job:localhost/replica:0/task:0/device:CPU:0\n",
      "Executing op AssignVariableOp in device /job:localhost/replica:0/task:0/device:CPU:0\n",
      "Executing op _EagerConst in device /job:localhost/replica:0/task:0/device:CPU:0\n",
      "Executing op VarHandleOp in device /job:localhost/replica:0/task:0/device:CPU:0\n",
      "Executing op AssignVariableOp in device /job:localhost/replica:0/task:0/device:CPU:0\n",
      "Executing op _EagerConst in device /job:localhost/replica:0/task:0/device:CPU:0\n",
      "Executing op VarHandleOp in device /job:localhost/replica:0/task:0/device:CPU:0\n",
      "Executing op AssignVariableOp in device /job:localhost/replica:0/task:0/device:CPU:0\n",
      "Executing op Fill in device /job:localhost/replica:0/task:0/device:CPU:0\n",
      "Executing op VarHandleOp in device /job:localhost/replica:0/task:0/device:CPU:0\n",
      "Executing op AssignVariableOp in device /job:localhost/replica:0/task:0/device:CPU:0\n",
      "Executing op Fill in device /job:localhost/replica:0/task:0/device:CPU:0\n",
      "Executing op VarHandleOp in device /job:localhost/replica:0/task:0/device:CPU:0\n",
      "Executing op AssignVariableOp in device /job:localhost/replica:0/task:0/device:CPU:0\n",
      "Executing op Fill in device /job:localhost/replica:0/task:0/device:CPU:0\n",
      "Executing op VarHandleOp in device /job:localhost/replica:0/task:0/device:CPU:0\n",
      "Executing op AssignVariableOp in device /job:localhost/replica:0/task:0/device:CPU:0\n",
      "Executing op Fill in device /job:localhost/replica:0/task:0/device:CPU:0\n",
      "Executing op VarHandleOp in device /job:localhost/replica:0/task:0/device:CPU:0\n",
      "Executing op AssignVariableOp in device /job:localhost/replica:0/task:0/device:CPU:0\n",
      "Executing op Fill in device /job:localhost/replica:0/task:0/device:CPU:0\n",
      "Executing op VarHandleOp in device /job:localhost/replica:0/task:0/device:CPU:0\n",
      "Executing op AssignVariableOp in device /job:localhost/replica:0/task:0/device:CPU:0\n",
      "Executing op Fill in device /job:localhost/replica:0/task:0/device:CPU:0\n",
      "Executing op VarHandleOp in device /job:localhost/replica:0/task:0/device:CPU:0\n",
      "Executing op AssignVariableOp in device /job:localhost/replica:0/task:0/device:CPU:0\n",
      "Executing op Fill in device /job:localhost/replica:0/task:0/device:CPU:0\n",
      "Executing op VarHandleOp in device /job:localhost/replica:0/task:0/device:CPU:0\n",
      "Executing op AssignVariableOp in device /job:localhost/replica:0/task:0/device:CPU:0\n",
      "Executing op Fill in device /job:localhost/replica:0/task:0/device:CPU:0\n",
      "Executing op VarHandleOp in device /job:localhost/replica:0/task:0/device:CPU:0\n",
      "Executing op AssignVariableOp in device /job:localhost/replica:0/task:0/device:CPU:0\n",
      "Executing op Fill in device /job:localhost/replica:0/task:0/device:CPU:0\n",
      "Executing op VarHandleOp in device /job:localhost/replica:0/task:0/device:CPU:0\n",
      "Executing op AssignVariableOp in device /job:localhost/replica:0/task:0/device:CPU:0\n",
      "Executing op Fill in device /job:localhost/replica:0/task:0/device:CPU:0\n",
      "Executing op VarHandleOp in device /job:localhost/replica:0/task:0/device:CPU:0\n",
      "Executing op AssignVariableOp in device /job:localhost/replica:0/task:0/device:CPU:0\n",
      "Executing op Fill in device /job:localhost/replica:0/task:0/device:CPU:0\n",
      "Executing op VarHandleOp in device /job:localhost/replica:0/task:0/device:CPU:0\n",
      "Executing op AssignVariableOp in device /job:localhost/replica:0/task:0/device:CPU:0\n",
      "Executing op Fill in device /job:localhost/replica:0/task:0/device:CPU:0\n",
      "Executing op VarHandleOp in device /job:localhost/replica:0/task:0/device:CPU:0\n",
      "Executing op AssignVariableOp in device /job:localhost/replica:0/task:0/device:CPU:0\n",
      "Executing op Fill in device /job:localhost/replica:0/task:0/device:CPU:0\n",
      "Executing op VarHandleOp in device /job:localhost/replica:0/task:0/device:CPU:0\n",
      "Executing op AssignVariableOp in device /job:localhost/replica:0/task:0/device:CPU:0\n",
      "Executing op Fill in device /job:localhost/replica:0/task:0/device:CPU:0\n",
      "Executing op VarHandleOp in device /job:localhost/replica:0/task:0/device:CPU:0\n",
      "Executing op AssignVariableOp in device /job:localhost/replica:0/task:0/device:CPU:0\n",
      "Executing op Fill in device /job:localhost/replica:0/task:0/device:CPU:0\n",
      "Executing op VarHandleOp in device /job:localhost/replica:0/task:0/device:CPU:0\n",
      "Executing op AssignVariableOp in device /job:localhost/replica:0/task:0/device:CPU:0\n",
      "Executing op Fill in device /job:localhost/replica:0/task:0/device:CPU:0\n",
      "Executing op VarHandleOp in device /job:localhost/replica:0/task:0/device:CPU:0\n",
      "Executing op AssignVariableOp in device /job:localhost/replica:0/task:0/device:CPU:0\n",
      "Executing op Fill in device /job:localhost/replica:0/task:0/device:CPU:0\n",
      "Executing op VarHandleOp in device /job:localhost/replica:0/task:0/device:CPU:0\n",
      "Executing op AssignVariableOp in device /job:localhost/replica:0/task:0/device:CPU:0\n",
      "Executing op Fill in device /job:localhost/replica:0/task:0/device:CPU:0\n",
      "Executing op VarHandleOp in device /job:localhost/replica:0/task:0/device:CPU:0\n",
      "Executing op AssignVariableOp in device /job:localhost/replica:0/task:0/device:CPU:0\n",
      "Executing op Fill in device /job:localhost/replica:0/task:0/device:CPU:0\n",
      "Executing op VarHandleOp in device /job:localhost/replica:0/task:0/device:CPU:0\n",
      "Executing op AssignVariableOp in device /job:localhost/replica:0/task:0/device:CPU:0\n",
      "Executing op Fill in device /job:localhost/replica:0/task:0/device:CPU:0\n",
      "Executing op VarHandleOp in device /job:localhost/replica:0/task:0/device:CPU:0\n",
      "Executing op AssignVariableOp in device /job:localhost/replica:0/task:0/device:CPU:0\n",
      "Executing op Fill in device /job:localhost/replica:0/task:0/device:CPU:0\n",
      "Executing op VarHandleOp in device /job:localhost/replica:0/task:0/device:CPU:0\n",
      "Executing op AssignVariableOp in device /job:localhost/replica:0/task:0/device:CPU:0\n",
      "Executing op Fill in device /job:localhost/replica:0/task:0/device:CPU:0\n",
      "Executing op VarHandleOp in device /job:localhost/replica:0/task:0/device:CPU:0\n",
      "Executing op AssignVariableOp in device /job:localhost/replica:0/task:0/device:CPU:0\n",
      "Executing op _EagerConst in device /job:localhost/replica:0/task:0/device:CPU:0\n",
      "Executing op Fill in device /job:localhost/replica:0/task:0/device:CPU:0\n",
      "Executing op VarHandleOp in device /job:localhost/replica:0/task:0/device:CPU:0\n",
      "Executing op AssignVariableOp in device /job:localhost/replica:0/task:0/device:CPU:0\n",
      "Executing op _EagerConst in device /job:localhost/replica:0/task:0/device:CPU:0\n",
      "Executing op Fill in device /job:localhost/replica:0/task:0/device:CPU:0\n",
      "Executing op VarHandleOp in device /job:localhost/replica:0/task:0/device:CPU:0\n",
      "Executing op AssignVariableOp in device /job:localhost/replica:0/task:0/device:CPU:0\n",
      "Executing op __inference_train_function_5983 in device /job:localhost/replica:0/task:0/device:CPU:0\n",
      "  1/223 [..............................] - ETA: 23:46 - loss: 1.0971 - accuracy: 0.3125Executing op ReadVariableOp in device /job:localhost/replica:0/task:0/device:CPU:0\n",
      "Executing op Identity in device /job:localhost/replica:0/task:0/device:CPU:0\n",
      "Executing op __inference_train_function_5983 in device /job:localhost/replica:0/task:0/device:CPU:0\n",
      "  2/223 [..............................] - ETA: 1:20 - loss: 1.0829 - accuracy: 0.5312 Executing op ReadVariableOp in device /job:localhost/replica:0/task:0/device:CPU:0\n",
      "Executing op Identity in device /job:localhost/replica:0/task:0/device:CPU:0\n",
      "Executing op __inference_train_function_5983 in device /job:localhost/replica:0/task:0/device:CPU:0\n",
      "  3/223 [..............................] - ETA: 1:16 - loss: 1.0761 - accuracy: 0.5208Executing op ReadVariableOp in device /job:localhost/replica:0/task:0/device:CPU:0\n",
      "Executing op Identity in device /job:localhost/replica:0/task:0/device:CPU:0\n",
      "Executing op __inference_train_function_5983 in device /job:localhost/replica:0/task:0/device:CPU:0\n",
      "  4/223 [..............................] - ETA: 1:10 - loss: 1.0540 - accuracy: 0.5625Executing op ReadVariableOp in device /job:localhost/replica:0/task:0/device:CPU:0\n",
      "Executing op Identity in device /job:localhost/replica:0/task:0/device:CPU:0\n",
      "Executing op __inference_train_function_5983 in device /job:localhost/replica:0/task:0/device:CPU:0\n",
      "  5/223 [..............................] - ETA: 1:12 - loss: 1.0452 - accuracy: 0.5813Executing op ReadVariableOp in device /job:localhost/replica:0/task:0/device:CPU:0\n",
      "Executing op Identity in device /job:localhost/replica:0/task:0/device:CPU:0\n",
      "Executing op __inference_train_function_5983 in device /job:localhost/replica:0/task:0/device:CPU:0\n",
      "  6/223 [..............................] - ETA: 1:10 - loss: 1.0282 - accuracy: 0.5781Executing op ReadVariableOp in device /job:localhost/replica:0/task:0/device:CPU:0\n",
      "Executing op Identity in device /job:localhost/replica:0/task:0/device:CPU:0\n",
      "Executing op __inference_train_function_5983 in device /job:localhost/replica:0/task:0/device:CPU:0\n",
      "  7/223 [..............................] - ETA: 1:10 - loss: 1.0022 - accuracy: 0.5982Executing op ReadVariableOp in device /job:localhost/replica:0/task:0/device:CPU:0\n",
      "Executing op Identity in device /job:localhost/replica:0/task:0/device:CPU:0\n",
      "Executing op __inference_train_function_5983 in device /job:localhost/replica:0/task:0/device:CPU:0\n",
      "  8/223 [>.............................] - ETA: 1:10 - loss: 0.9833 - accuracy: 0.6133Executing op ReadVariableOp in device /job:localhost/replica:0/task:0/device:CPU:0\n",
      "Executing op Identity in device /job:localhost/replica:0/task:0/device:CPU:0\n",
      "Executing op __inference_train_function_5983 in device /job:localhost/replica:0/task:0/device:CPU:0\n",
      "  9/223 [>.............................] - ETA: 1:08 - loss: 0.9654 - accuracy: 0.6181Executing op ReadVariableOp in device /job:localhost/replica:0/task:0/device:CPU:0\n",
      "Executing op Identity in device /job:localhost/replica:0/task:0/device:CPU:0\n",
      "Executing op __inference_train_function_5983 in device /job:localhost/replica:0/task:0/device:CPU:0\n",
      " 10/223 [>.............................] - ETA: 1:08 - loss: 0.9635 - accuracy: 0.6187Executing op ReadVariableOp in device /job:localhost/replica:0/task:0/device:CPU:0\n",
      "Executing op Identity in device /job:localhost/replica:0/task:0/device:CPU:0\n",
      "Executing op __inference_train_function_5983 in device /job:localhost/replica:0/task:0/device:CPU:0\n",
      " 11/223 [>.............................] - ETA: 1:06 - loss: 0.9553 - accuracy: 0.6193Executing op ReadVariableOp in device /job:localhost/replica:0/task:0/device:CPU:0\n",
      "Executing op Identity in device /job:localhost/replica:0/task:0/device:CPU:0\n",
      "Executing op __inference_train_function_5983 in device /job:localhost/replica:0/task:0/device:CPU:0\n",
      " 12/223 [>.............................] - ETA: 1:04 - loss: 0.9459 - accuracy: 0.6250Executing op ReadVariableOp in device /job:localhost/replica:0/task:0/device:CPU:0\n",
      "Executing op Identity in device /job:localhost/replica:0/task:0/device:CPU:0\n",
      "Executing op __inference_train_function_5983 in device /job:localhost/replica:0/task:0/device:CPU:0\n",
      " 13/223 [>.............................] - ETA: 1:05 - loss: 0.9292 - accuracy: 0.6394Executing op ReadVariableOp in device /job:localhost/replica:0/task:0/device:CPU:0\n",
      "Executing op Identity in device /job:localhost/replica:0/task:0/device:CPU:0\n",
      "Executing op __inference_train_function_5983 in device /job:localhost/replica:0/task:0/device:CPU:0\n",
      " 14/223 [>.............................] - ETA: 1:03 - loss: 0.9218 - accuracy: 0.6406Executing op ReadVariableOp in device /job:localhost/replica:0/task:0/device:CPU:0\n",
      "Executing op Identity in device /job:localhost/replica:0/task:0/device:CPU:0\n",
      "Executing op __inference_train_function_5983 in device /job:localhost/replica:0/task:0/device:CPU:0\n",
      " 15/223 [=>............................] - ETA: 1:03 - loss: 0.9241 - accuracy: 0.6375Executing op ReadVariableOp in device /job:localhost/replica:0/task:0/device:CPU:0\n",
      "Executing op Identity in device /job:localhost/replica:0/task:0/device:CPU:0\n",
      "Executing op __inference_train_function_5983 in device /job:localhost/replica:0/task:0/device:CPU:0\n",
      " 16/223 [=>............................] - ETA: 1:02 - loss: 0.9021 - accuracy: 0.6484Executing op ReadVariableOp in device /job:localhost/replica:0/task:0/device:CPU:0\n",
      "Executing op Identity in device /job:localhost/replica:0/task:0/device:CPU:0\n",
      "Executing op __inference_train_function_5983 in device /job:localhost/replica:0/task:0/device:CPU:0\n",
      " 17/223 [=>............................] - ETA: 1:01 - loss: 0.8892 - accuracy: 0.6544Executing op ReadVariableOp in device /job:localhost/replica:0/task:0/device:CPU:0\n",
      "Executing op Identity in device /job:localhost/replica:0/task:0/device:CPU:0\n",
      "Executing op __inference_train_function_5983 in device /job:localhost/replica:0/task:0/device:CPU:0\n",
      " 18/223 [=>............................] - ETA: 1:00 - loss: 0.8928 - accuracy: 0.6510Executing op ReadVariableOp in device /job:localhost/replica:0/task:0/device:CPU:0\n",
      "Executing op Identity in device /job:localhost/replica:0/task:0/device:CPU:0\n",
      "Executing op __inference_train_function_5983 in device /job:localhost/replica:0/task:0/device:CPU:0\n",
      " 19/223 [=>............................] - ETA: 1:00 - loss: 0.8936 - accuracy: 0.6497Executing op ReadVariableOp in device /job:localhost/replica:0/task:0/device:CPU:0\n",
      "Executing op Identity in device /job:localhost/replica:0/task:0/device:CPU:0\n",
      "Executing op __inference_train_function_5983 in device /job:localhost/replica:0/task:0/device:CPU:0\n",
      " 20/223 [=>............................] - ETA: 59s - loss: 0.8939 - accuracy: 0.6484 Executing op ReadVariableOp in device /job:localhost/replica:0/task:0/device:CPU:0\n",
      "Executing op Identity in device /job:localhost/replica:0/task:0/device:CPU:0\n",
      "Executing op __inference_train_function_5983 in device /job:localhost/replica:0/task:0/device:CPU:0\n",
      " 21/223 [=>............................] - ETA: 59s - loss: 0.8889 - accuracy: 0.6458Executing op ReadVariableOp in device /job:localhost/replica:0/task:0/device:CPU:0\n",
      "Executing op Identity in device /job:localhost/replica:0/task:0/device:CPU:0\n",
      "Executing op __inference_train_function_5983 in device /job:localhost/replica:0/task:0/device:CPU:0\n",
      " 22/223 [=>............................] - ETA: 59s - loss: 0.8892 - accuracy: 0.6463Executing op ReadVariableOp in device /job:localhost/replica:0/task:0/device:CPU:0\n",
      "Executing op Identity in device /job:localhost/replica:0/task:0/device:CPU:0\n",
      "Executing op __inference_train_function_5983 in device /job:localhost/replica:0/task:0/device:CPU:0\n",
      " 23/223 [==>...........................] - ETA: 58s - loss: 0.8862 - accuracy: 0.6467Executing op ReadVariableOp in device /job:localhost/replica:0/task:0/device:CPU:0\n",
      "Executing op Identity in device /job:localhost/replica:0/task:0/device:CPU:0\n",
      "Executing op __inference_train_function_5983 in device /job:localhost/replica:0/task:0/device:CPU:0\n",
      " 24/223 [==>...........................] - ETA: 58s - loss: 0.8845 - accuracy: 0.6458Executing op ReadVariableOp in device /job:localhost/replica:0/task:0/device:CPU:0\n",
      "Executing op Identity in device /job:localhost/replica:0/task:0/device:CPU:0\n",
      "Executing op __inference_train_function_5983 in device /job:localhost/replica:0/task:0/device:CPU:0\n",
      " 25/223 [==>...........................] - ETA: 58s - loss: 0.8793 - accuracy: 0.6525Executing op ReadVariableOp in device /job:localhost/replica:0/task:0/device:CPU:0\n",
      "Executing op Identity in device /job:localhost/replica:0/task:0/device:CPU:0\n",
      "Executing op __inference_train_function_5983 in device /job:localhost/replica:0/task:0/device:CPU:0\n",
      " 26/223 [==>...........................] - ETA: 57s - loss: 0.8734 - accuracy: 0.6550Executing op ReadVariableOp in device /job:localhost/replica:0/task:0/device:CPU:0\n",
      "Executing op Identity in device /job:localhost/replica:0/task:0/device:CPU:0\n",
      "Executing op __inference_train_function_5983 in device /job:localhost/replica:0/task:0/device:CPU:0\n",
      " 27/223 [==>...........................] - ETA: 59s - loss: 0.8703 - accuracy: 0.6551Executing op ReadVariableOp in device /job:localhost/replica:0/task:0/device:CPU:0\n",
      "Executing op Identity in device /job:localhost/replica:0/task:0/device:CPU:0\n",
      "Executing op __inference_train_function_5983 in device /job:localhost/replica:0/task:0/device:CPU:0\n",
      " 28/223 [==>...........................] - ETA: 1:00 - loss: 0.8689 - accuracy: 0.6540Executing op ReadVariableOp in device /job:localhost/replica:0/task:0/device:CPU:0\n",
      "Executing op Identity in device /job:localhost/replica:0/task:0/device:CPU:0\n",
      "Executing op __inference_train_function_5983 in device /job:localhost/replica:0/task:0/device:CPU:0\n",
      " 29/223 [==>...........................] - ETA: 1:00 - loss: 0.8653 - accuracy: 0.6552Executing op ReadVariableOp in device /job:localhost/replica:0/task:0/device:CPU:0\n",
      "Executing op Identity in device /job:localhost/replica:0/task:0/device:CPU:0\n",
      "Executing op __inference_train_function_5983 in device /job:localhost/replica:0/task:0/device:CPU:0\n",
      " 30/223 [===>..........................] - ETA: 59s - loss: 0.8664 - accuracy: 0.6531 Executing op ReadVariableOp in device /job:localhost/replica:0/task:0/device:CPU:0\n",
      "Executing op Identity in device /job:localhost/replica:0/task:0/device:CPU:0\n",
      "Executing op __inference_train_function_5983 in device /job:localhost/replica:0/task:0/device:CPU:0\n",
      " 31/223 [===>..........................] - ETA: 59s - loss: 0.8653 - accuracy: 0.6542Executing op ReadVariableOp in device /job:localhost/replica:0/task:0/device:CPU:0\n",
      "Executing op Identity in device /job:localhost/replica:0/task:0/device:CPU:0\n",
      "Executing op __inference_train_function_5983 in device /job:localhost/replica:0/task:0/device:CPU:0\n",
      " 32/223 [===>..........................] - ETA: 58s - loss: 0.8704 - accuracy: 0.6484Executing op ReadVariableOp in device /job:localhost/replica:0/task:0/device:CPU:0\n",
      "Executing op Identity in device /job:localhost/replica:0/task:0/device:CPU:0\n",
      "Executing op __inference_train_function_5983 in device /job:localhost/replica:0/task:0/device:CPU:0\n",
      " 33/223 [===>..........................] - ETA: 57s - loss: 0.8747 - accuracy: 0.6468Executing op ReadVariableOp in device /job:localhost/replica:0/task:0/device:CPU:0\n",
      "Executing op Identity in device /job:localhost/replica:0/task:0/device:CPU:0\n",
      "Executing op __inference_train_function_5983 in device /job:localhost/replica:0/task:0/device:CPU:0\n",
      " 34/223 [===>..........................] - ETA: 57s - loss: 0.8716 - accuracy: 0.6480Executing op ReadVariableOp in device /job:localhost/replica:0/task:0/device:CPU:0\n",
      "Executing op Identity in device /job:localhost/replica:0/task:0/device:CPU:0\n",
      "Executing op __inference_train_function_5983 in device /job:localhost/replica:0/task:0/device:CPU:0\n",
      " 35/223 [===>..........................] - ETA: 57s - loss: 0.8715 - accuracy: 0.6482Executing op ReadVariableOp in device /job:localhost/replica:0/task:0/device:CPU:0\n",
      "Executing op Identity in device /job:localhost/replica:0/task:0/device:CPU:0\n",
      "Executing op __inference_train_function_5983 in device /job:localhost/replica:0/task:0/device:CPU:0\n",
      " 36/223 [===>..........................] - ETA: 56s - loss: 0.8665 - accuracy: 0.6519Executing op ReadVariableOp in device /job:localhost/replica:0/task:0/device:CPU:0\n",
      "Executing op Identity in device /job:localhost/replica:0/task:0/device:CPU:0\n",
      "Executing op __inference_train_function_5983 in device /job:localhost/replica:0/task:0/device:CPU:0\n",
      " 37/223 [===>..........................] - ETA: 56s - loss: 0.8628 - accuracy: 0.6546Executing op ReadVariableOp in device /job:localhost/replica:0/task:0/device:CPU:0\n",
      "Executing op Identity in device /job:localhost/replica:0/task:0/device:CPU:0\n",
      "Executing op __inference_train_function_5983 in device /job:localhost/replica:0/task:0/device:CPU:0\n",
      " 38/223 [====>.........................] - ETA: 55s - loss: 0.8605 - accuracy: 0.6562Executing op ReadVariableOp in device /job:localhost/replica:0/task:0/device:CPU:0\n",
      "Executing op Identity in device /job:localhost/replica:0/task:0/device:CPU:0\n",
      "Executing op __inference_train_function_5983 in device /job:localhost/replica:0/task:0/device:CPU:0\n",
      " 39/223 [====>.........................] - ETA: 54s - loss: 0.8615 - accuracy: 0.6562Executing op ReadVariableOp in device /job:localhost/replica:0/task:0/device:CPU:0\n",
      "Executing op Identity in device /job:localhost/replica:0/task:0/device:CPU:0\n",
      "Executing op __inference_train_function_5983 in device /job:localhost/replica:0/task:0/device:CPU:0\n",
      " 40/223 [====>.........................] - ETA: 54s - loss: 0.8576 - accuracy: 0.6562Executing op ReadVariableOp in device /job:localhost/replica:0/task:0/device:CPU:0\n",
      "Executing op Identity in device /job:localhost/replica:0/task:0/device:CPU:0\n",
      "Executing op __inference_train_function_5983 in device /job:localhost/replica:0/task:0/device:CPU:0\n",
      " 41/223 [====>.........................] - ETA: 54s - loss: 0.8541 - accuracy: 0.6570Executing op ReadVariableOp in device /job:localhost/replica:0/task:0/device:CPU:0\n",
      "Executing op Identity in device /job:localhost/replica:0/task:0/device:CPU:0\n",
      "Executing op __inference_train_function_5983 in device /job:localhost/replica:0/task:0/device:CPU:0\n",
      " 42/223 [====>.........................] - ETA: 54s - loss: 0.8498 - accuracy: 0.6592Executing op ReadVariableOp in device /job:localhost/replica:0/task:0/device:CPU:0\n",
      "Executing op Identity in device /job:localhost/replica:0/task:0/device:CPU:0\n",
      "Executing op __inference_train_function_5983 in device /job:localhost/replica:0/task:0/device:CPU:0\n",
      " 43/223 [====>.........................] - ETA: 54s - loss: 0.8496 - accuracy: 0.6606Executing op ReadVariableOp in device /job:localhost/replica:0/task:0/device:CPU:0\n",
      "Executing op Identity in device /job:localhost/replica:0/task:0/device:CPU:0\n",
      "Executing op __inference_train_function_5983 in device /job:localhost/replica:0/task:0/device:CPU:0\n",
      " 44/223 [====>.........................] - ETA: 54s - loss: 0.8470 - accuracy: 0.6619Executing op ReadVariableOp in device /job:localhost/replica:0/task:0/device:CPU:0\n",
      "Executing op Identity in device /job:localhost/replica:0/task:0/device:CPU:0\n",
      "Executing op __inference_train_function_5983 in device /job:localhost/replica:0/task:0/device:CPU:0\n",
      " 45/223 [=====>........................] - ETA: 53s - loss: 0.8469 - accuracy: 0.6625Executing op ReadVariableOp in device /job:localhost/replica:0/task:0/device:CPU:0\n",
      "Executing op Identity in device /job:localhost/replica:0/task:0/device:CPU:0\n",
      "Executing op __inference_train_function_5983 in device /job:localhost/replica:0/task:0/device:CPU:0\n",
      " 46/223 [=====>........................] - ETA: 54s - loss: 0.8433 - accuracy: 0.6637Executing op ReadVariableOp in device /job:localhost/replica:0/task:0/device:CPU:0\n",
      "Executing op Identity in device /job:localhost/replica:0/task:0/device:CPU:0\n",
      "Executing op __inference_train_function_5983 in device /job:localhost/replica:0/task:0/device:CPU:0\n",
      " 47/223 [=====>........................] - ETA: 54s - loss: 0.8454 - accuracy: 0.6629Executing op ReadVariableOp in device /job:localhost/replica:0/task:0/device:CPU:0\n",
      "Executing op Identity in device /job:localhost/replica:0/task:0/device:CPU:0\n",
      "Executing op __inference_train_function_5983 in device /job:localhost/replica:0/task:0/device:CPU:0\n",
      " 48/223 [=====>........................] - ETA: 55s - loss: 0.8476 - accuracy: 0.6608Executing op ReadVariableOp in device /job:localhost/replica:0/task:0/device:CPU:0\n",
      "Executing op Identity in device /job:localhost/replica:0/task:0/device:CPU:0\n",
      "Executing op __inference_train_function_5983 in device /job:localhost/replica:0/task:0/device:CPU:0\n",
      " 49/223 [=====>........................] - ETA: 55s - loss: 0.8486 - accuracy: 0.6601Executing op ReadVariableOp in device /job:localhost/replica:0/task:0/device:CPU:0\n",
      "Executing op Identity in device /job:localhost/replica:0/task:0/device:CPU:0\n",
      "Executing op __inference_train_function_5983 in device /job:localhost/replica:0/task:0/device:CPU:0\n",
      " 50/223 [=====>........................] - ETA: 54s - loss: 0.8479 - accuracy: 0.6606Executing op ReadVariableOp in device /job:localhost/replica:0/task:0/device:CPU:0\n",
      "Executing op Identity in device /job:localhost/replica:0/task:0/device:CPU:0\n",
      "Executing op __inference_train_function_5983 in device /job:localhost/replica:0/task:0/device:CPU:0\n",
      " 51/223 [=====>........................] - ETA: 54s - loss: 0.8483 - accuracy: 0.6593Executing op ReadVariableOp in device /job:localhost/replica:0/task:0/device:CPU:0\n",
      "Executing op Identity in device /job:localhost/replica:0/task:0/device:CPU:0\n",
      "Executing op __inference_train_function_5983 in device /job:localhost/replica:0/task:0/device:CPU:0\n",
      " 52/223 [=====>........................] - ETA: 54s - loss: 0.8494 - accuracy: 0.6587Executing op ReadVariableOp in device /job:localhost/replica:0/task:0/device:CPU:0\n",
      "Executing op Identity in device /job:localhost/replica:0/task:0/device:CPU:0\n",
      "Executing op __inference_train_function_5983 in device /job:localhost/replica:0/task:0/device:CPU:0\n",
      " 53/223 [======>.......................] - ETA: 53s - loss: 0.8481 - accuracy: 0.6592Executing op ReadVariableOp in device /job:localhost/replica:0/task:0/device:CPU:0\n",
      "Executing op Identity in device /job:localhost/replica:0/task:0/device:CPU:0\n",
      "Executing op __inference_train_function_5983 in device /job:localhost/replica:0/task:0/device:CPU:0\n",
      " 54/223 [======>.......................] - ETA: 53s - loss: 0.8487 - accuracy: 0.6597Executing op ReadVariableOp in device /job:localhost/replica:0/task:0/device:CPU:0\n",
      "Executing op Identity in device /job:localhost/replica:0/task:0/device:CPU:0\n",
      "Executing op __inference_train_function_5983 in device /job:localhost/replica:0/task:0/device:CPU:0\n",
      " 55/223 [======>.......................] - ETA: 52s - loss: 0.8472 - accuracy: 0.6597Executing op ReadVariableOp in device /job:localhost/replica:0/task:0/device:CPU:0\n",
      "Executing op Identity in device /job:localhost/replica:0/task:0/device:CPU:0\n",
      "Executing op __inference_train_function_5983 in device /job:localhost/replica:0/task:0/device:CPU:0\n",
      " 56/223 [======>.......................] - ETA: 52s - loss: 0.8451 - accuracy: 0.6613Executing op ReadVariableOp in device /job:localhost/replica:0/task:0/device:CPU:0\n",
      "Executing op Identity in device /job:localhost/replica:0/task:0/device:CPU:0\n",
      "Executing op __inference_train_function_5983 in device /job:localhost/replica:0/task:0/device:CPU:0\n",
      " 57/223 [======>.......................] - ETA: 52s - loss: 0.8467 - accuracy: 0.6584Executing op ReadVariableOp in device /job:localhost/replica:0/task:0/device:CPU:0\n",
      "Executing op Identity in device /job:localhost/replica:0/task:0/device:CPU:0\n",
      "Executing op __inference_train_function_5983 in device /job:localhost/replica:0/task:0/device:CPU:0\n",
      " 58/223 [======>.......................] - ETA: 52s - loss: 0.8448 - accuracy: 0.6595Executing op ReadVariableOp in device /job:localhost/replica:0/task:0/device:CPU:0\n",
      "Executing op Identity in device /job:localhost/replica:0/task:0/device:CPU:0\n",
      "Executing op __inference_train_function_5983 in device /job:localhost/replica:0/task:0/device:CPU:0\n",
      " 59/223 [======>.......................] - ETA: 52s - loss: 0.8436 - accuracy: 0.6589Executing op ReadVariableOp in device /job:localhost/replica:0/task:0/device:CPU:0\n",
      "Executing op Identity in device /job:localhost/replica:0/task:0/device:CPU:0\n",
      "Executing op __inference_train_function_5983 in device /job:localhost/replica:0/task:0/device:CPU:0\n",
      " 60/223 [=======>......................] - ETA: 52s - loss: 0.8420 - accuracy: 0.6620Executing op ReadVariableOp in device /job:localhost/replica:0/task:0/device:CPU:0\n",
      "Executing op Identity in device /job:localhost/replica:0/task:0/device:CPU:0\n",
      "Executing op __inference_train_function_5983 in device /job:localhost/replica:0/task:0/device:CPU:0\n",
      " 61/223 [=======>......................] - ETA: 52s - loss: 0.8435 - accuracy: 0.6598Executing op ReadVariableOp in device /job:localhost/replica:0/task:0/device:CPU:0\n",
      "Executing op Identity in device /job:localhost/replica:0/task:0/device:CPU:0\n",
      "Executing op __inference_train_function_5983 in device /job:localhost/replica:0/task:0/device:CPU:0\n",
      " 62/223 [=======>......................] - ETA: 52s - loss: 0.8417 - accuracy: 0.6608Executing op ReadVariableOp in device /job:localhost/replica:0/task:0/device:CPU:0\n",
      "Executing op Identity in device /job:localhost/replica:0/task:0/device:CPU:0\n",
      "Executing op __inference_train_function_5983 in device /job:localhost/replica:0/task:0/device:CPU:0\n",
      " 63/223 [=======>......................] - ETA: 52s - loss: 0.8414 - accuracy: 0.6617Executing op ReadVariableOp in device /job:localhost/replica:0/task:0/device:CPU:0\n",
      "Executing op Identity in device /job:localhost/replica:0/task:0/device:CPU:0\n",
      "Executing op __inference_train_function_5983 in device /job:localhost/replica:0/task:0/device:CPU:0\n",
      " 64/223 [=======>......................] - ETA: 52s - loss: 0.8405 - accuracy: 0.6616Executing op ReadVariableOp in device /job:localhost/replica:0/task:0/device:CPU:0\n",
      "Executing op Identity in device /job:localhost/replica:0/task:0/device:CPU:0\n",
      "Executing op __inference_train_function_5983 in device /job:localhost/replica:0/task:0/device:CPU:0\n",
      " 65/223 [=======>......................] - ETA: 52s - loss: 0.8401 - accuracy: 0.6625Executing op ReadVariableOp in device /job:localhost/replica:0/task:0/device:CPU:0\n",
      "Executing op Identity in device /job:localhost/replica:0/task:0/device:CPU:0\n",
      "Executing op __inference_train_function_5983 in device /job:localhost/replica:0/task:0/device:CPU:0\n",
      " 66/223 [=======>......................] - ETA: 52s - loss: 0.8369 - accuracy: 0.6638Executing op ReadVariableOp in device /job:localhost/replica:0/task:0/device:CPU:0\n",
      "Executing op Identity in device /job:localhost/replica:0/task:0/device:CPU:0\n",
      "Executing op __inference_train_function_5983 in device /job:localhost/replica:0/task:0/device:CPU:0\n",
      " 67/223 [========>.....................] - ETA: 52s - loss: 0.8360 - accuracy: 0.6637Executing op ReadVariableOp in device /job:localhost/replica:0/task:0/device:CPU:0\n",
      "Executing op Identity in device /job:localhost/replica:0/task:0/device:CPU:0\n",
      "Executing op __inference_train_function_5983 in device /job:localhost/replica:0/task:0/device:CPU:0\n",
      " 68/223 [========>.....................] - ETA: 51s - loss: 0.8356 - accuracy: 0.6645Executing op ReadVariableOp in device /job:localhost/replica:0/task:0/device:CPU:0\n",
      "Executing op Identity in device /job:localhost/replica:0/task:0/device:CPU:0\n",
      "Executing op __inference_train_function_5983 in device /job:localhost/replica:0/task:0/device:CPU:0\n",
      " 69/223 [========>.....................] - ETA: 51s - loss: 0.8343 - accuracy: 0.6653Executing op ReadVariableOp in device /job:localhost/replica:0/task:0/device:CPU:0\n",
      "Executing op Identity in device /job:localhost/replica:0/task:0/device:CPU:0\n",
      "Executing op __inference_train_function_5983 in device /job:localhost/replica:0/task:0/device:CPU:0\n",
      " 70/223 [========>.....................] - ETA: 50s - loss: 0.8363 - accuracy: 0.6625Executing op ReadVariableOp in device /job:localhost/replica:0/task:0/device:CPU:0\n",
      "Executing op Identity in device /job:localhost/replica:0/task:0/device:CPU:0\n",
      "Executing op __inference_train_function_5983 in device /job:localhost/replica:0/task:0/device:CPU:0\n",
      " 71/223 [========>.....................] - ETA: 50s - loss: 0.8375 - accuracy: 0.6615Executing op ReadVariableOp in device /job:localhost/replica:0/task:0/device:CPU:0\n",
      "Executing op Identity in device /job:localhost/replica:0/task:0/device:CPU:0\n",
      "Executing op __inference_train_function_5983 in device /job:localhost/replica:0/task:0/device:CPU:0\n",
      " 72/223 [========>.....................] - ETA: 49s - loss: 0.8390 - accuracy: 0.6602Executing op ReadVariableOp in device /job:localhost/replica:0/task:0/device:CPU:0\n",
      "Executing op Identity in device /job:localhost/replica:0/task:0/device:CPU:0\n",
      "Executing op __inference_train_function_5983 in device /job:localhost/replica:0/task:0/device:CPU:0\n",
      " 73/223 [========>.....................] - ETA: 49s - loss: 0.8375 - accuracy: 0.6610Executing op ReadVariableOp in device /job:localhost/replica:0/task:0/device:CPU:0\n",
      "Executing op Identity in device /job:localhost/replica:0/task:0/device:CPU:0\n",
      "Executing op __inference_train_function_5983 in device /job:localhost/replica:0/task:0/device:CPU:0\n",
      " 74/223 [========>.....................] - ETA: 49s - loss: 0.8379 - accuracy: 0.6613Executing op ReadVariableOp in device /job:localhost/replica:0/task:0/device:CPU:0\n",
      "Executing op Identity in device /job:localhost/replica:0/task:0/device:CPU:0\n",
      "Executing op __inference_train_function_5983 in device /job:localhost/replica:0/task:0/device:CPU:0\n",
      " 75/223 [=========>....................] - ETA: 48s - loss: 0.8388 - accuracy: 0.6604Executing op ReadVariableOp in device /job:localhost/replica:0/task:0/device:CPU:0\n",
      "Executing op Identity in device /job:localhost/replica:0/task:0/device:CPU:0\n",
      "Executing op __inference_train_function_5983 in device /job:localhost/replica:0/task:0/device:CPU:0\n",
      " 76/223 [=========>....................] - ETA: 48s - loss: 0.8367 - accuracy: 0.6612Executing op ReadVariableOp in device /job:localhost/replica:0/task:0/device:CPU:0\n",
      "Executing op Identity in device /job:localhost/replica:0/task:0/device:CPU:0\n",
      "Executing op __inference_train_function_5983 in device /job:localhost/replica:0/task:0/device:CPU:0\n",
      " 77/223 [=========>....................] - ETA: 47s - loss: 0.8374 - accuracy: 0.6607Executing op ReadVariableOp in device /job:localhost/replica:0/task:0/device:CPU:0\n",
      "Executing op Identity in device /job:localhost/replica:0/task:0/device:CPU:0\n",
      "Executing op __inference_train_function_5983 in device /job:localhost/replica:0/task:0/device:CPU:0\n",
      " 78/223 [=========>....................] - ETA: 47s - loss: 0.8362 - accuracy: 0.6611Executing op ReadVariableOp in device /job:localhost/replica:0/task:0/device:CPU:0\n",
      "Executing op Identity in device /job:localhost/replica:0/task:0/device:CPU:0\n",
      "Executing op __inference_train_function_5983 in device /job:localhost/replica:0/task:0/device:CPU:0\n",
      " 79/223 [=========>....................] - ETA: 47s - loss: 0.8337 - accuracy: 0.6626Executing op ReadVariableOp in device /job:localhost/replica:0/task:0/device:CPU:0\n",
      "Executing op Identity in device /job:localhost/replica:0/task:0/device:CPU:0\n",
      "Executing op __inference_train_function_5983 in device /job:localhost/replica:0/task:0/device:CPU:0\n",
      " 80/223 [=========>....................] - ETA: 47s - loss: 0.8324 - accuracy: 0.6633Executing op ReadVariableOp in device /job:localhost/replica:0/task:0/device:CPU:0\n",
      "Executing op Identity in device /job:localhost/replica:0/task:0/device:CPU:0\n",
      "Executing op __inference_train_function_5983 in device /job:localhost/replica:0/task:0/device:CPU:0\n",
      " 81/223 [=========>....................] - ETA: 46s - loss: 0.8315 - accuracy: 0.6636Executing op ReadVariableOp in device /job:localhost/replica:0/task:0/device:CPU:0\n",
      "Executing op Identity in device /job:localhost/replica:0/task:0/device:CPU:0\n",
      "Executing op __inference_train_function_5983 in device /job:localhost/replica:0/task:0/device:CPU:0\n",
      " 82/223 [==========>...................] - ETA: 46s - loss: 0.8296 - accuracy: 0.6646Executing op ReadVariableOp in device /job:localhost/replica:0/task:0/device:CPU:0\n",
      "Executing op Identity in device /job:localhost/replica:0/task:0/device:CPU:0\n",
      "Executing op __inference_train_function_5983 in device /job:localhost/replica:0/task:0/device:CPU:0\n",
      " 83/223 [==========>...................] - ETA: 46s - loss: 0.8278 - accuracy: 0.6657Executing op ReadVariableOp in device /job:localhost/replica:0/task:0/device:CPU:0\n",
      "Executing op Identity in device /job:localhost/replica:0/task:0/device:CPU:0\n",
      "Executing op __inference_train_function_5983 in device /job:localhost/replica:0/task:0/device:CPU:0\n",
      " 84/223 [==========>...................] - ETA: 45s - loss: 0.8287 - accuracy: 0.6644Executing op ReadVariableOp in device /job:localhost/replica:0/task:0/device:CPU:0\n",
      "Executing op Identity in device /job:localhost/replica:0/task:0/device:CPU:0\n",
      "Executing op __inference_train_function_5983 in device /job:localhost/replica:0/task:0/device:CPU:0\n",
      " 85/223 [==========>...................] - ETA: 45s - loss: 0.8269 - accuracy: 0.6651Executing op ReadVariableOp in device /job:localhost/replica:0/task:0/device:CPU:0\n",
      "Executing op Identity in device /job:localhost/replica:0/task:0/device:CPU:0\n",
      "Executing op __inference_train_function_5983 in device /job:localhost/replica:0/task:0/device:CPU:0\n",
      " 86/223 [==========>...................] - ETA: 45s - loss: 0.8251 - accuracy: 0.6661Executing op ReadVariableOp in device /job:localhost/replica:0/task:0/device:CPU:0\n",
      "Executing op Identity in device /job:localhost/replica:0/task:0/device:CPU:0\n",
      "Executing op __inference_train_function_5983 in device /job:localhost/replica:0/task:0/device:CPU:0\n",
      " 87/223 [==========>...................] - ETA: 45s - loss: 0.8223 - accuracy: 0.6670Executing op ReadVariableOp in device /job:localhost/replica:0/task:0/device:CPU:0\n",
      "Executing op Identity in device /job:localhost/replica:0/task:0/device:CPU:0\n",
      "Executing op __inference_train_function_5983 in device /job:localhost/replica:0/task:0/device:CPU:0\n",
      " 88/223 [==========>...................] - ETA: 44s - loss: 0.8230 - accuracy: 0.6669Executing op ReadVariableOp in device /job:localhost/replica:0/task:0/device:CPU:0\n",
      "Executing op Identity in device /job:localhost/replica:0/task:0/device:CPU:0\n",
      "Executing op __inference_train_function_5983 in device /job:localhost/replica:0/task:0/device:CPU:0\n",
      " 89/223 [==========>...................] - ETA: 44s - loss: 0.8225 - accuracy: 0.6678Executing op ReadVariableOp in device /job:localhost/replica:0/task:0/device:CPU:0\n",
      "Executing op Identity in device /job:localhost/replica:0/task:0/device:CPU:0\n",
      "Executing op __inference_train_function_5983 in device /job:localhost/replica:0/task:0/device:CPU:0\n",
      " 90/223 [===========>..................] - ETA: 44s - loss: 0.8212 - accuracy: 0.6684Executing op ReadVariableOp in device /job:localhost/replica:0/task:0/device:CPU:0\n",
      "Executing op Identity in device /job:localhost/replica:0/task:0/device:CPU:0\n",
      "Executing op __inference_train_function_5983 in device /job:localhost/replica:0/task:0/device:CPU:0\n",
      " 91/223 [===========>..................] - ETA: 44s - loss: 0.8203 - accuracy: 0.6679Executing op ReadVariableOp in device /job:localhost/replica:0/task:0/device:CPU:0\n",
      "Executing op Identity in device /job:localhost/replica:0/task:0/device:CPU:0\n",
      "Executing op __inference_train_function_5983 in device /job:localhost/replica:0/task:0/device:CPU:0\n",
      " 92/223 [===========>..................] - ETA: 44s - loss: 0.8225 - accuracy: 0.6671Executing op ReadVariableOp in device /job:localhost/replica:0/task:0/device:CPU:0\n",
      "Executing op Identity in device /job:localhost/replica:0/task:0/device:CPU:0\n",
      "Executing op __inference_train_function_5983 in device /job:localhost/replica:0/task:0/device:CPU:0\n",
      " 93/223 [===========>..................] - ETA: 43s - loss: 0.8214 - accuracy: 0.6673Executing op ReadVariableOp in device /job:localhost/replica:0/task:0/device:CPU:0\n",
      "Executing op Identity in device /job:localhost/replica:0/task:0/device:CPU:0\n",
      "Executing op __inference_train_function_5983 in device /job:localhost/replica:0/task:0/device:CPU:0\n",
      " 94/223 [===========>..................] - ETA: 43s - loss: 0.8242 - accuracy: 0.6649Executing op ReadVariableOp in device /job:localhost/replica:0/task:0/device:CPU:0\n",
      "Executing op Identity in device /job:localhost/replica:0/task:0/device:CPU:0\n",
      "Executing op __inference_train_function_5983 in device /job:localhost/replica:0/task:0/device:CPU:0\n",
      " 95/223 [===========>..................] - ETA: 43s - loss: 0.8231 - accuracy: 0.6655Executing op ReadVariableOp in device /job:localhost/replica:0/task:0/device:CPU:0\n",
      "Executing op Identity in device /job:localhost/replica:0/task:0/device:CPU:0\n",
      "Executing op __inference_train_function_5983 in device /job:localhost/replica:0/task:0/device:CPU:0\n",
      " 96/223 [===========>..................] - ETA: 43s - loss: 0.8227 - accuracy: 0.6654Executing op ReadVariableOp in device /job:localhost/replica:0/task:0/device:CPU:0\n",
      "Executing op Identity in device /job:localhost/replica:0/task:0/device:CPU:0\n",
      "Executing op __inference_train_function_5983 in device /job:localhost/replica:0/task:0/device:CPU:0\n",
      " 97/223 [============>.................] - ETA: 42s - loss: 0.8217 - accuracy: 0.6656Executing op ReadVariableOp in device /job:localhost/replica:0/task:0/device:CPU:0\n",
      "Executing op Identity in device /job:localhost/replica:0/task:0/device:CPU:0\n",
      "Executing op __inference_train_function_5983 in device /job:localhost/replica:0/task:0/device:CPU:0\n",
      " 98/223 [============>.................] - ETA: 42s - loss: 0.8207 - accuracy: 0.6658Executing op ReadVariableOp in device /job:localhost/replica:0/task:0/device:CPU:0\n",
      "Executing op Identity in device /job:localhost/replica:0/task:0/device:CPU:0\n",
      "Executing op __inference_train_function_5983 in device /job:localhost/replica:0/task:0/device:CPU:0\n",
      " 99/223 [============>.................] - ETA: 41s - loss: 0.8185 - accuracy: 0.6676Executing op ReadVariableOp in device /job:localhost/replica:0/task:0/device:CPU:0\n",
      "Executing op Identity in device /job:localhost/replica:0/task:0/device:CPU:0\n",
      "Executing op __inference_train_function_5983 in device /job:localhost/replica:0/task:0/device:CPU:0\n",
      "100/223 [============>.................] - ETA: 41s - loss: 0.8184 - accuracy: 0.6675Executing op ReadVariableOp in device /job:localhost/replica:0/task:0/device:CPU:0\n",
      "Executing op Identity in device /job:localhost/replica:0/task:0/device:CPU:0\n",
      "Executing op __inference_train_function_5983 in device /job:localhost/replica:0/task:0/device:CPU:0\n",
      "101/223 [============>.................] - ETA: 41s - loss: 0.8179 - accuracy: 0.6674Executing op ReadVariableOp in device /job:localhost/replica:0/task:0/device:CPU:0\n",
      "Executing op Identity in device /job:localhost/replica:0/task:0/device:CPU:0\n",
      "Executing op __inference_train_function_5983 in device /job:localhost/replica:0/task:0/device:CPU:0\n",
      "102/223 [============>.................] - ETA: 40s - loss: 0.8173 - accuracy: 0.6670Executing op ReadVariableOp in device /job:localhost/replica:0/task:0/device:CPU:0\n",
      "Executing op Identity in device /job:localhost/replica:0/task:0/device:CPU:0\n",
      "Executing op __inference_train_function_5983 in device /job:localhost/replica:0/task:0/device:CPU:0\n",
      "103/223 [============>.................] - ETA: 40s - loss: 0.8167 - accuracy: 0.6672Executing op ReadVariableOp in device /job:localhost/replica:0/task:0/device:CPU:0\n",
      "Executing op Identity in device /job:localhost/replica:0/task:0/device:CPU:0\n",
      "Executing op __inference_train_function_5983 in device /job:localhost/replica:0/task:0/device:CPU:0\n",
      "104/223 [============>.................] - ETA: 40s - loss: 0.8152 - accuracy: 0.6671Executing op ReadVariableOp in device /job:localhost/replica:0/task:0/device:CPU:0\n",
      "Executing op Identity in device /job:localhost/replica:0/task:0/device:CPU:0\n",
      "Executing op __inference_train_function_5983 in device /job:localhost/replica:0/task:0/device:CPU:0\n",
      "105/223 [=============>................] - ETA: 39s - loss: 0.8151 - accuracy: 0.6667Executing op ReadVariableOp in device /job:localhost/replica:0/task:0/device:CPU:0\n",
      "Executing op Identity in device /job:localhost/replica:0/task:0/device:CPU:0\n",
      "Executing op __inference_train_function_5983 in device /job:localhost/replica:0/task:0/device:CPU:0\n",
      "106/223 [=============>................] - ETA: 39s - loss: 0.8152 - accuracy: 0.6669Executing op ReadVariableOp in device /job:localhost/replica:0/task:0/device:CPU:0\n",
      "Executing op Identity in device /job:localhost/replica:0/task:0/device:CPU:0\n",
      "Executing op __inference_train_function_5983 in device /job:localhost/replica:0/task:0/device:CPU:0\n",
      "107/223 [=============>................] - ETA: 39s - loss: 0.8169 - accuracy: 0.6659Executing op ReadVariableOp in device /job:localhost/replica:0/task:0/device:CPU:0\n",
      "Executing op Identity in device /job:localhost/replica:0/task:0/device:CPU:0\n",
      "Executing op __inference_train_function_5983 in device /job:localhost/replica:0/task:0/device:CPU:0\n",
      "108/223 [=============>................] - ETA: 38s - loss: 0.8145 - accuracy: 0.6670Executing op ReadVariableOp in device /job:localhost/replica:0/task:0/device:CPU:0\n",
      "Executing op Identity in device /job:localhost/replica:0/task:0/device:CPU:0\n",
      "Executing op __inference_train_function_5983 in device /job:localhost/replica:0/task:0/device:CPU:0\n",
      "109/223 [=============>................] - ETA: 38s - loss: 0.8132 - accuracy: 0.6680Executing op ReadVariableOp in device /job:localhost/replica:0/task:0/device:CPU:0\n",
      "Executing op Identity in device /job:localhost/replica:0/task:0/device:CPU:0\n",
      "Executing op __inference_train_function_5983 in device /job:localhost/replica:0/task:0/device:CPU:0\n",
      "110/223 [=============>................] - ETA: 38s - loss: 0.8126 - accuracy: 0.6676Executing op ReadVariableOp in device /job:localhost/replica:0/task:0/device:CPU:0\n",
      "Executing op Identity in device /job:localhost/replica:0/task:0/device:CPU:0\n",
      "Executing op __inference_train_function_5983 in device /job:localhost/replica:0/task:0/device:CPU:0\n",
      "111/223 [=============>................] - ETA: 37s - loss: 0.8109 - accuracy: 0.6692Executing op ReadVariableOp in device /job:localhost/replica:0/task:0/device:CPU:0\n",
      "Executing op Identity in device /job:localhost/replica:0/task:0/device:CPU:0\n",
      "Executing op __inference_train_function_5983 in device /job:localhost/replica:0/task:0/device:CPU:0\n",
      "112/223 [==============>...............] - ETA: 37s - loss: 0.8090 - accuracy: 0.6702Executing op ReadVariableOp in device /job:localhost/replica:0/task:0/device:CPU:0\n",
      "Executing op Identity in device /job:localhost/replica:0/task:0/device:CPU:0\n",
      "Executing op __inference_train_function_5983 in device /job:localhost/replica:0/task:0/device:CPU:0\n",
      "113/223 [==============>...............] - ETA: 36s - loss: 0.8093 - accuracy: 0.6695Executing op ReadVariableOp in device /job:localhost/replica:0/task:0/device:CPU:0\n",
      "Executing op Identity in device /job:localhost/replica:0/task:0/device:CPU:0\n",
      "Executing op __inference_train_function_5983 in device /job:localhost/replica:0/task:0/device:CPU:0\n",
      "114/223 [==============>...............] - ETA: 36s - loss: 0.8085 - accuracy: 0.6694Executing op ReadVariableOp in device /job:localhost/replica:0/task:0/device:CPU:0\n",
      "Executing op Identity in device /job:localhost/replica:0/task:0/device:CPU:0\n",
      "Executing op __inference_train_function_5983 in device /job:localhost/replica:0/task:0/device:CPU:0\n",
      "115/223 [==============>...............] - ETA: 36s - loss: 0.8091 - accuracy: 0.6698Executing op ReadVariableOp in device /job:localhost/replica:0/task:0/device:CPU:0\n",
      "Executing op Identity in device /job:localhost/replica:0/task:0/device:CPU:0\n",
      "Executing op __inference_train_function_5983 in device /job:localhost/replica:0/task:0/device:CPU:0\n",
      "116/223 [==============>...............] - ETA: 36s - loss: 0.8075 - accuracy: 0.6703Executing op ReadVariableOp in device /job:localhost/replica:0/task:0/device:CPU:0\n",
      "Executing op Identity in device /job:localhost/replica:0/task:0/device:CPU:0\n",
      "Executing op __inference_train_function_5983 in device /job:localhost/replica:0/task:0/device:CPU:0\n",
      "117/223 [==============>...............] - ETA: 35s - loss: 0.8051 - accuracy: 0.6717Executing op ReadVariableOp in device /job:localhost/replica:0/task:0/device:CPU:0\n",
      "Executing op Identity in device /job:localhost/replica:0/task:0/device:CPU:0\n",
      "Executing op __inference_train_function_5983 in device /job:localhost/replica:0/task:0/device:CPU:0\n",
      "118/223 [==============>...............] - ETA: 35s - loss: 0.8040 - accuracy: 0.6727Executing op ReadVariableOp in device /job:localhost/replica:0/task:0/device:CPU:0\n",
      "Executing op Identity in device /job:localhost/replica:0/task:0/device:CPU:0\n",
      "Executing op __inference_train_function_5983 in device /job:localhost/replica:0/task:0/device:CPU:0\n",
      "119/223 [===============>..............] - ETA: 35s - loss: 0.8017 - accuracy: 0.6738Executing op ReadVariableOp in device /job:localhost/replica:0/task:0/device:CPU:0\n",
      "Executing op Identity in device /job:localhost/replica:0/task:0/device:CPU:0\n",
      "Executing op __inference_train_function_5983 in device /job:localhost/replica:0/task:0/device:CPU:0\n",
      "120/223 [===============>..............] - ETA: 34s - loss: 0.7997 - accuracy: 0.6750Executing op ReadVariableOp in device /job:localhost/replica:0/task:0/device:CPU:0\n",
      "Executing op Identity in device /job:localhost/replica:0/task:0/device:CPU:0\n",
      "Executing op __inference_train_function_5983 in device /job:localhost/replica:0/task:0/device:CPU:0\n",
      "121/223 [===============>..............] - ETA: 34s - loss: 0.8005 - accuracy: 0.6756Executing op ReadVariableOp in device /job:localhost/replica:0/task:0/device:CPU:0\n",
      "Executing op Identity in device /job:localhost/replica:0/task:0/device:CPU:0\n",
      "Executing op __inference_train_function_5983 in device /job:localhost/replica:0/task:0/device:CPU:0\n",
      "122/223 [===============>..............] - ETA: 34s - loss: 0.8004 - accuracy: 0.6760Executing op ReadVariableOp in device /job:localhost/replica:0/task:0/device:CPU:0\n",
      "Executing op Identity in device /job:localhost/replica:0/task:0/device:CPU:0\n",
      "Executing op __inference_train_function_5983 in device /job:localhost/replica:0/task:0/device:CPU:0\n",
      "123/223 [===============>..............] - ETA: 33s - loss: 0.8011 - accuracy: 0.6756Executing op ReadVariableOp in device /job:localhost/replica:0/task:0/device:CPU:0\n",
      "Executing op Identity in device /job:localhost/replica:0/task:0/device:CPU:0\n",
      "Executing op __inference_train_function_5983 in device /job:localhost/replica:0/task:0/device:CPU:0\n",
      "124/223 [===============>..............] - ETA: 33s - loss: 0.8004 - accuracy: 0.6754Executing op ReadVariableOp in device /job:localhost/replica:0/task:0/device:CPU:0\n",
      "Executing op Identity in device /job:localhost/replica:0/task:0/device:CPU:0\n",
      "Executing op __inference_train_function_5983 in device /job:localhost/replica:0/task:0/device:CPU:0\n",
      "125/223 [===============>..............] - ETA: 33s - loss: 0.7991 - accuracy: 0.6765Executing op ReadVariableOp in device /job:localhost/replica:0/task:0/device:CPU:0\n",
      "Executing op Identity in device /job:localhost/replica:0/task:0/device:CPU:0\n",
      "Executing op __inference_train_function_5983 in device /job:localhost/replica:0/task:0/device:CPU:0\n",
      "126/223 [===============>..............] - ETA: 33s - loss: 0.7981 - accuracy: 0.6771Executing op ReadVariableOp in device /job:localhost/replica:0/task:0/device:CPU:0\n",
      "Executing op Identity in device /job:localhost/replica:0/task:0/device:CPU:0\n",
      "Executing op __inference_train_function_5983 in device /job:localhost/replica:0/task:0/device:CPU:0\n",
      "127/223 [================>.............] - ETA: 32s - loss: 0.7983 - accuracy: 0.6772Executing op ReadVariableOp in device /job:localhost/replica:0/task:0/device:CPU:0\n",
      "Executing op Identity in device /job:localhost/replica:0/task:0/device:CPU:0\n",
      "Executing op __inference_train_function_5983 in device /job:localhost/replica:0/task:0/device:CPU:0\n",
      "128/223 [================>.............] - ETA: 32s - loss: 0.7985 - accuracy: 0.6765Executing op ReadVariableOp in device /job:localhost/replica:0/task:0/device:CPU:0\n",
      "Executing op Identity in device /job:localhost/replica:0/task:0/device:CPU:0\n",
      "Executing op __inference_train_function_5983 in device /job:localhost/replica:0/task:0/device:CPU:0\n",
      "129/223 [================>.............] - ETA: 31s - loss: 0.7981 - accuracy: 0.6771Executing op ReadVariableOp in device /job:localhost/replica:0/task:0/device:CPU:0\n",
      "Executing op Identity in device /job:localhost/replica:0/task:0/device:CPU:0\n",
      "Executing op __inference_train_function_5983 in device /job:localhost/replica:0/task:0/device:CPU:0\n",
      "130/223 [================>.............] - ETA: 31s - loss: 0.7976 - accuracy: 0.6776Executing op ReadVariableOp in device /job:localhost/replica:0/task:0/device:CPU:0\n",
      "Executing op Identity in device /job:localhost/replica:0/task:0/device:CPU:0\n",
      "Executing op __inference_train_function_5983 in device /job:localhost/replica:0/task:0/device:CPU:0\n",
      "131/223 [================>.............] - ETA: 31s - loss: 0.7972 - accuracy: 0.6787Executing op ReadVariableOp in device /job:localhost/replica:0/task:0/device:CPU:0\n",
      "Executing op Identity in device /job:localhost/replica:0/task:0/device:CPU:0\n",
      "Executing op __inference_train_function_5983 in device /job:localhost/replica:0/task:0/device:CPU:0\n",
      "132/223 [================>.............] - ETA: 30s - loss: 0.7964 - accuracy: 0.6790Executing op ReadVariableOp in device /job:localhost/replica:0/task:0/device:CPU:0\n",
      "Executing op Identity in device /job:localhost/replica:0/task:0/device:CPU:0\n",
      "Executing op __inference_train_function_5983 in device /job:localhost/replica:0/task:0/device:CPU:0\n",
      "133/223 [================>.............] - ETA: 30s - loss: 0.7970 - accuracy: 0.6788Executing op ReadVariableOp in device /job:localhost/replica:0/task:0/device:CPU:0\n",
      "Executing op Identity in device /job:localhost/replica:0/task:0/device:CPU:0\n",
      "Executing op __inference_train_function_5983 in device /job:localhost/replica:0/task:0/device:CPU:0\n",
      "134/223 [=================>............] - ETA: 30s - loss: 0.7962 - accuracy: 0.6789Executing op ReadVariableOp in device /job:localhost/replica:0/task:0/device:CPU:0\n",
      "Executing op Identity in device /job:localhost/replica:0/task:0/device:CPU:0\n",
      "Executing op __inference_train_function_5983 in device /job:localhost/replica:0/task:0/device:CPU:0\n",
      "135/223 [=================>............] - ETA: 29s - loss: 0.7954 - accuracy: 0.6792Executing op ReadVariableOp in device /job:localhost/replica:0/task:0/device:CPU:0\n",
      "Executing op Identity in device /job:localhost/replica:0/task:0/device:CPU:0\n",
      "Executing op __inference_train_function_5983 in device /job:localhost/replica:0/task:0/device:CPU:0\n",
      "136/223 [=================>............] - ETA: 29s - loss: 0.7954 - accuracy: 0.6788Executing op ReadVariableOp in device /job:localhost/replica:0/task:0/device:CPU:0\n",
      "Executing op Identity in device /job:localhost/replica:0/task:0/device:CPU:0\n",
      "Executing op __inference_train_function_5983 in device /job:localhost/replica:0/task:0/device:CPU:0\n",
      "137/223 [=================>............] - ETA: 29s - loss: 0.7952 - accuracy: 0.6788Executing op ReadVariableOp in device /job:localhost/replica:0/task:0/device:CPU:0\n",
      "Executing op Identity in device /job:localhost/replica:0/task:0/device:CPU:0\n",
      "Executing op __inference_train_function_5983 in device /job:localhost/replica:0/task:0/device:CPU:0\n",
      "138/223 [=================>............] - ETA: 28s - loss: 0.7937 - accuracy: 0.6803Executing op ReadVariableOp in device /job:localhost/replica:0/task:0/device:CPU:0\n",
      "Executing op Identity in device /job:localhost/replica:0/task:0/device:CPU:0\n",
      "Executing op __inference_train_function_5983 in device /job:localhost/replica:0/task:0/device:CPU:0\n",
      "139/223 [=================>............] - ETA: 28s - loss: 0.7933 - accuracy: 0.6801Executing op ReadVariableOp in device /job:localhost/replica:0/task:0/device:CPU:0\n",
      "Executing op Identity in device /job:localhost/replica:0/task:0/device:CPU:0\n",
      "Executing op __inference_train_function_5983 in device /job:localhost/replica:0/task:0/device:CPU:0\n",
      "140/223 [=================>............] - ETA: 28s - loss: 0.7921 - accuracy: 0.6812Executing op ReadVariableOp in device /job:localhost/replica:0/task:0/device:CPU:0\n",
      "Executing op Identity in device /job:localhost/replica:0/task:0/device:CPU:0\n",
      "Executing op __inference_train_function_5983 in device /job:localhost/replica:0/task:0/device:CPU:0\n",
      "141/223 [=================>............] - ETA: 27s - loss: 0.7928 - accuracy: 0.6811Executing op ReadVariableOp in device /job:localhost/replica:0/task:0/device:CPU:0\n",
      "Executing op Identity in device /job:localhost/replica:0/task:0/device:CPU:0\n",
      "Executing op __inference_train_function_5983 in device /job:localhost/replica:0/task:0/device:CPU:0\n",
      "142/223 [==================>...........] - ETA: 27s - loss: 0.7919 - accuracy: 0.6811Executing op ReadVariableOp in device /job:localhost/replica:0/task:0/device:CPU:0\n",
      "Executing op Identity in device /job:localhost/replica:0/task:0/device:CPU:0\n",
      "Executing op __inference_train_function_5983 in device /job:localhost/replica:0/task:0/device:CPU:0\n",
      "143/223 [==================>...........] - ETA: 26s - loss: 0.7933 - accuracy: 0.6809Executing op ReadVariableOp in device /job:localhost/replica:0/task:0/device:CPU:0\n",
      "Executing op Identity in device /job:localhost/replica:0/task:0/device:CPU:0\n",
      "Executing op __inference_train_function_5983 in device /job:localhost/replica:0/task:0/device:CPU:0\n",
      "144/223 [==================>...........] - ETA: 26s - loss: 0.7909 - accuracy: 0.6825Executing op ReadVariableOp in device /job:localhost/replica:0/task:0/device:CPU:0\n",
      "Executing op Identity in device /job:localhost/replica:0/task:0/device:CPU:0\n",
      "Executing op __inference_train_function_5983 in device /job:localhost/replica:0/task:0/device:CPU:0\n",
      "145/223 [==================>...........] - ETA: 26s - loss: 0.7908 - accuracy: 0.6819Executing op ReadVariableOp in device /job:localhost/replica:0/task:0/device:CPU:0\n",
      "Executing op Identity in device /job:localhost/replica:0/task:0/device:CPU:0\n",
      "Executing op __inference_train_function_5983 in device /job:localhost/replica:0/task:0/device:CPU:0\n",
      "146/223 [==================>...........] - ETA: 26s - loss: 0.7891 - accuracy: 0.6828Executing op ReadVariableOp in device /job:localhost/replica:0/task:0/device:CPU:0\n",
      "Executing op Identity in device /job:localhost/replica:0/task:0/device:CPU:0\n",
      "Executing op __inference_train_function_5983 in device /job:localhost/replica:0/task:0/device:CPU:0\n",
      "147/223 [==================>...........] - ETA: 25s - loss: 0.7898 - accuracy: 0.6826Executing op ReadVariableOp in device /job:localhost/replica:0/task:0/device:CPU:0\n",
      "Executing op Identity in device /job:localhost/replica:0/task:0/device:CPU:0\n",
      "Executing op __inference_train_function_5983 in device /job:localhost/replica:0/task:0/device:CPU:0\n",
      "148/223 [==================>...........] - ETA: 25s - loss: 0.7901 - accuracy: 0.6831Executing op ReadVariableOp in device /job:localhost/replica:0/task:0/device:CPU:0\n",
      "Executing op Identity in device /job:localhost/replica:0/task:0/device:CPU:0\n",
      "Executing op __inference_train_function_5983 in device /job:localhost/replica:0/task:0/device:CPU:0\n",
      "149/223 [===================>..........] - ETA: 25s - loss: 0.7901 - accuracy: 0.6833Executing op ReadVariableOp in device /job:localhost/replica:0/task:0/device:CPU:0\n",
      "Executing op Identity in device /job:localhost/replica:0/task:0/device:CPU:0\n",
      "Executing op __inference_train_function_5983 in device /job:localhost/replica:0/task:0/device:CPU:0\n",
      "150/223 [===================>..........] - ETA: 24s - loss: 0.7893 - accuracy: 0.6840Executing op ReadVariableOp in device /job:localhost/replica:0/task:0/device:CPU:0\n",
      "Executing op Identity in device /job:localhost/replica:0/task:0/device:CPU:0\n",
      "Executing op __inference_train_function_5983 in device /job:localhost/replica:0/task:0/device:CPU:0\n",
      "151/223 [===================>..........] - ETA: 24s - loss: 0.7891 - accuracy: 0.6842Executing op ReadVariableOp in device /job:localhost/replica:0/task:0/device:CPU:0\n",
      "Executing op Identity in device /job:localhost/replica:0/task:0/device:CPU:0\n",
      "Executing op __inference_train_function_5983 in device /job:localhost/replica:0/task:0/device:CPU:0\n",
      "152/223 [===================>..........] - ETA: 24s - loss: 0.7874 - accuracy: 0.6852Executing op ReadVariableOp in device /job:localhost/replica:0/task:0/device:CPU:0\n",
      "Executing op Identity in device /job:localhost/replica:0/task:0/device:CPU:0\n",
      "Executing op __inference_train_function_5983 in device /job:localhost/replica:0/task:0/device:CPU:0\n",
      "153/223 [===================>..........] - ETA: 23s - loss: 0.7861 - accuracy: 0.6861Executing op ReadVariableOp in device /job:localhost/replica:0/task:0/device:CPU:0\n",
      "Executing op Identity in device /job:localhost/replica:0/task:0/device:CPU:0\n",
      "Executing op __inference_train_function_5983 in device /job:localhost/replica:0/task:0/device:CPU:0\n",
      "154/223 [===================>..........] - ETA: 23s - loss: 0.7844 - accuracy: 0.6869Executing op ReadVariableOp in device /job:localhost/replica:0/task:0/device:CPU:0\n",
      "Executing op Identity in device /job:localhost/replica:0/task:0/device:CPU:0\n",
      "Executing op __inference_train_function_5983 in device /job:localhost/replica:0/task:0/device:CPU:0\n",
      "155/223 [===================>..........] - ETA: 22s - loss: 0.7850 - accuracy: 0.6867Executing op ReadVariableOp in device /job:localhost/replica:0/task:0/device:CPU:0\n",
      "Executing op Identity in device /job:localhost/replica:0/task:0/device:CPU:0\n",
      "Executing op __inference_train_function_5983 in device /job:localhost/replica:0/task:0/device:CPU:0\n",
      "156/223 [===================>..........] - ETA: 22s - loss: 0.7836 - accuracy: 0.6873Executing op ReadVariableOp in device /job:localhost/replica:0/task:0/device:CPU:0\n",
      "Executing op Identity in device /job:localhost/replica:0/task:0/device:CPU:0\n",
      "Executing op __inference_train_function_5983 in device /job:localhost/replica:0/task:0/device:CPU:0\n",
      "157/223 [====================>.........] - ETA: 22s - loss: 0.7819 - accuracy: 0.6885Executing op ReadVariableOp in device /job:localhost/replica:0/task:0/device:CPU:0\n",
      "Executing op Identity in device /job:localhost/replica:0/task:0/device:CPU:0\n",
      "Executing op __inference_train_function_5983 in device /job:localhost/replica:0/task:0/device:CPU:0\n",
      "158/223 [====================>.........] - ETA: 21s - loss: 0.7805 - accuracy: 0.6887Executing op ReadVariableOp in device /job:localhost/replica:0/task:0/device:CPU:0\n",
      "Executing op Identity in device /job:localhost/replica:0/task:0/device:CPU:0\n",
      "Executing op __inference_train_function_5983 in device /job:localhost/replica:0/task:0/device:CPU:0\n",
      "159/223 [====================>.........] - ETA: 21s - loss: 0.7796 - accuracy: 0.6895Executing op ReadVariableOp in device /job:localhost/replica:0/task:0/device:CPU:0\n",
      "Executing op Identity in device /job:localhost/replica:0/task:0/device:CPU:0\n",
      "Executing op __inference_train_function_5983 in device /job:localhost/replica:0/task:0/device:CPU:0\n",
      "160/223 [====================>.........] - ETA: 21s - loss: 0.7787 - accuracy: 0.6896Executing op ReadVariableOp in device /job:localhost/replica:0/task:0/device:CPU:0\n",
      "Executing op Identity in device /job:localhost/replica:0/task:0/device:CPU:0\n",
      "Executing op __inference_train_function_5983 in device /job:localhost/replica:0/task:0/device:CPU:0\n",
      "161/223 [====================>.........] - ETA: 20s - loss: 0.7796 - accuracy: 0.6898Executing op ReadVariableOp in device /job:localhost/replica:0/task:0/device:CPU:0\n",
      "Executing op Identity in device /job:localhost/replica:0/task:0/device:CPU:0\n",
      "Executing op __inference_train_function_5983 in device /job:localhost/replica:0/task:0/device:CPU:0\n",
      "162/223 [====================>.........] - ETA: 20s - loss: 0.7791 - accuracy: 0.6896Executing op ReadVariableOp in device /job:localhost/replica:0/task:0/device:CPU:0\n",
      "Executing op Identity in device /job:localhost/replica:0/task:0/device:CPU:0\n",
      "Executing op __inference_train_function_5983 in device /job:localhost/replica:0/task:0/device:CPU:0\n",
      "163/223 [====================>.........] - ETA: 20s - loss: 0.7774 - accuracy: 0.6904Executing op ReadVariableOp in device /job:localhost/replica:0/task:0/device:CPU:0\n",
      "Executing op Identity in device /job:localhost/replica:0/task:0/device:CPU:0\n",
      "Executing op __inference_train_function_5983 in device /job:localhost/replica:0/task:0/device:CPU:0\n",
      "164/223 [=====================>........] - ETA: 19s - loss: 0.7758 - accuracy: 0.6913Executing op ReadVariableOp in device /job:localhost/replica:0/task:0/device:CPU:0\n",
      "Executing op Identity in device /job:localhost/replica:0/task:0/device:CPU:0\n",
      "Executing op __inference_train_function_5983 in device /job:localhost/replica:0/task:0/device:CPU:0\n",
      "165/223 [=====================>........] - ETA: 19s - loss: 0.7744 - accuracy: 0.6919Executing op ReadVariableOp in device /job:localhost/replica:0/task:0/device:CPU:0\n",
      "Executing op Identity in device /job:localhost/replica:0/task:0/device:CPU:0\n",
      "Executing op __inference_train_function_5983 in device /job:localhost/replica:0/task:0/device:CPU:0\n",
      "166/223 [=====================>........] - ETA: 19s - loss: 0.7735 - accuracy: 0.6924Executing op ReadVariableOp in device /job:localhost/replica:0/task:0/device:CPU:0\n",
      "Executing op Identity in device /job:localhost/replica:0/task:0/device:CPU:0\n",
      "Executing op __inference_train_function_5983 in device /job:localhost/replica:0/task:0/device:CPU:0\n",
      "167/223 [=====================>........] - ETA: 18s - loss: 0.7723 - accuracy: 0.6929Executing op ReadVariableOp in device /job:localhost/replica:0/task:0/device:CPU:0\n",
      "Executing op Identity in device /job:localhost/replica:0/task:0/device:CPU:0\n",
      "Executing op __inference_train_function_5983 in device /job:localhost/replica:0/task:0/device:CPU:0\n",
      "168/223 [=====================>........] - ETA: 18s - loss: 0.7700 - accuracy: 0.6942Executing op ReadVariableOp in device /job:localhost/replica:0/task:0/device:CPU:0\n",
      "Executing op Identity in device /job:localhost/replica:0/task:0/device:CPU:0\n",
      "Executing op __inference_train_function_5983 in device /job:localhost/replica:0/task:0/device:CPU:0\n",
      "169/223 [=====================>........] - ETA: 18s - loss: 0.7688 - accuracy: 0.6949Executing op ReadVariableOp in device /job:localhost/replica:0/task:0/device:CPU:0\n",
      "Executing op Identity in device /job:localhost/replica:0/task:0/device:CPU:0\n",
      "Executing op __inference_train_function_5983 in device /job:localhost/replica:0/task:0/device:CPU:0\n",
      "170/223 [=====================>........] - ETA: 17s - loss: 0.7667 - accuracy: 0.6960Executing op ReadVariableOp in device /job:localhost/replica:0/task:0/device:CPU:0\n",
      "Executing op Identity in device /job:localhost/replica:0/task:0/device:CPU:0\n",
      "Executing op __inference_train_function_5983 in device /job:localhost/replica:0/task:0/device:CPU:0\n",
      "171/223 [======================>.......] - ETA: 17s - loss: 0.7638 - accuracy: 0.6972Executing op ReadVariableOp in device /job:localhost/replica:0/task:0/device:CPU:0\n",
      "Executing op Identity in device /job:localhost/replica:0/task:0/device:CPU:0\n",
      "Executing op __inference_train_function_5983 in device /job:localhost/replica:0/task:0/device:CPU:0\n",
      "172/223 [======================>.......] - ETA: 17s - loss: 0.7640 - accuracy: 0.6975Executing op ReadVariableOp in device /job:localhost/replica:0/task:0/device:CPU:0\n",
      "Executing op Identity in device /job:localhost/replica:0/task:0/device:CPU:0\n",
      "Executing op __inference_train_function_5983 in device /job:localhost/replica:0/task:0/device:CPU:0\n",
      "173/223 [======================>.......] - ETA: 16s - loss: 0.7612 - accuracy: 0.6985Executing op ReadVariableOp in device /job:localhost/replica:0/task:0/device:CPU:0\n",
      "Executing op Identity in device /job:localhost/replica:0/task:0/device:CPU:0\n",
      "Executing op __inference_train_function_5983 in device /job:localhost/replica:0/task:0/device:CPU:0\n",
      "174/223 [======================>.......] - ETA: 16s - loss: 0.7604 - accuracy: 0.6990Executing op ReadVariableOp in device /job:localhost/replica:0/task:0/device:CPU:0\n",
      "Executing op Identity in device /job:localhost/replica:0/task:0/device:CPU:0\n",
      "Executing op __inference_train_function_5983 in device /job:localhost/replica:0/task:0/device:CPU:0\n",
      "175/223 [======================>.......] - ETA: 15s - loss: 0.7599 - accuracy: 0.6993Executing op ReadVariableOp in device /job:localhost/replica:0/task:0/device:CPU:0\n",
      "Executing op Identity in device /job:localhost/replica:0/task:0/device:CPU:0\n",
      "Executing op __inference_train_function_5983 in device /job:localhost/replica:0/task:0/device:CPU:0\n"
     ]
    },
    {
     "ename": "KeyboardInterrupt",
     "evalue": "",
     "output_type": "error",
     "traceback": [
      "\u001b[1;31m---------------------------------------------------------------------------\u001b[0m",
      "\u001b[1;31mKeyboardInterrupt\u001b[0m                         Traceback (most recent call last)",
      "Cell \u001b[1;32mIn[25], line 17\u001b[0m\n\u001b[0;32m     14\u001b[0m model2 \u001b[39m=\u001b[39m Model(inp,out)\n\u001b[0;32m     15\u001b[0m model2\u001b[39m.\u001b[39mcompile(loss\u001b[39m=\u001b[39m\u001b[39m'\u001b[39m\u001b[39mcategorical_crossentropy\u001b[39m\u001b[39m'\u001b[39m,optimizer\u001b[39m=\u001b[39m\u001b[39m'\u001b[39m\u001b[39madam\u001b[39m\u001b[39m'\u001b[39m,metrics\u001b[39m=\u001b[39m[\u001b[39m'\u001b[39m\u001b[39maccuracy\u001b[39m\u001b[39m'\u001b[39m])\n\u001b[1;32m---> 17\u001b[0m model2\u001b[39m.\u001b[39;49mfit(train_x, train_y, batch_size\u001b[39m=\u001b[39;49m\u001b[39m32\u001b[39;49m, epochs\u001b[39m=\u001b[39;49m\u001b[39m5\u001b[39;49m, verbose\u001b[39m=\u001b[39;49m\u001b[39m1\u001b[39;49m,validation_data\u001b[39m=\u001b[39;49m[trainxval,train_yval])\n",
      "File \u001b[1;32mc:\\Users\\lokes\\anaconda3\\envs\\tf-gpu\\lib\\site-packages\\keras\\utils\\traceback_utils.py:65\u001b[0m, in \u001b[0;36mfilter_traceback.<locals>.error_handler\u001b[1;34m(*args, **kwargs)\u001b[0m\n\u001b[0;32m     63\u001b[0m filtered_tb \u001b[39m=\u001b[39m \u001b[39mNone\u001b[39;00m\n\u001b[0;32m     64\u001b[0m \u001b[39mtry\u001b[39;00m:\n\u001b[1;32m---> 65\u001b[0m     \u001b[39mreturn\u001b[39;00m fn(\u001b[39m*\u001b[39margs, \u001b[39m*\u001b[39m\u001b[39m*\u001b[39mkwargs)\n\u001b[0;32m     66\u001b[0m \u001b[39mexcept\u001b[39;00m \u001b[39mException\u001b[39;00m \u001b[39mas\u001b[39;00m e:\n\u001b[0;32m     67\u001b[0m     filtered_tb \u001b[39m=\u001b[39m _process_traceback_frames(e\u001b[39m.\u001b[39m__traceback__)\n",
      "File \u001b[1;32mc:\\Users\\lokes\\anaconda3\\envs\\tf-gpu\\lib\\site-packages\\keras\\engine\\training.py:1564\u001b[0m, in \u001b[0;36mModel.fit\u001b[1;34m(self, x, y, batch_size, epochs, verbose, callbacks, validation_split, validation_data, shuffle, class_weight, sample_weight, initial_epoch, steps_per_epoch, validation_steps, validation_batch_size, validation_freq, max_queue_size, workers, use_multiprocessing)\u001b[0m\n\u001b[0;32m   1556\u001b[0m \u001b[39mwith\u001b[39;00m tf\u001b[39m.\u001b[39mprofiler\u001b[39m.\u001b[39mexperimental\u001b[39m.\u001b[39mTrace(\n\u001b[0;32m   1557\u001b[0m     \u001b[39m\"\u001b[39m\u001b[39mtrain\u001b[39m\u001b[39m\"\u001b[39m,\n\u001b[0;32m   1558\u001b[0m     epoch_num\u001b[39m=\u001b[39mepoch,\n\u001b[1;32m   (...)\u001b[0m\n\u001b[0;32m   1561\u001b[0m     _r\u001b[39m=\u001b[39m\u001b[39m1\u001b[39m,\n\u001b[0;32m   1562\u001b[0m ):\n\u001b[0;32m   1563\u001b[0m     callbacks\u001b[39m.\u001b[39mon_train_batch_begin(step)\n\u001b[1;32m-> 1564\u001b[0m     tmp_logs \u001b[39m=\u001b[39m \u001b[39mself\u001b[39;49m\u001b[39m.\u001b[39;49mtrain_function(iterator)\n\u001b[0;32m   1565\u001b[0m     \u001b[39mif\u001b[39;00m data_handler\u001b[39m.\u001b[39mshould_sync:\n\u001b[0;32m   1566\u001b[0m         context\u001b[39m.\u001b[39masync_wait()\n",
      "File \u001b[1;32mc:\\Users\\lokes\\anaconda3\\envs\\tf-gpu\\lib\\site-packages\\tensorflow\\python\\util\\traceback_utils.py:150\u001b[0m, in \u001b[0;36mfilter_traceback.<locals>.error_handler\u001b[1;34m(*args, **kwargs)\u001b[0m\n\u001b[0;32m    148\u001b[0m filtered_tb \u001b[39m=\u001b[39m \u001b[39mNone\u001b[39;00m\n\u001b[0;32m    149\u001b[0m \u001b[39mtry\u001b[39;00m:\n\u001b[1;32m--> 150\u001b[0m   \u001b[39mreturn\u001b[39;00m fn(\u001b[39m*\u001b[39margs, \u001b[39m*\u001b[39m\u001b[39m*\u001b[39mkwargs)\n\u001b[0;32m    151\u001b[0m \u001b[39mexcept\u001b[39;00m \u001b[39mException\u001b[39;00m \u001b[39mas\u001b[39;00m e:\n\u001b[0;32m    152\u001b[0m   filtered_tb \u001b[39m=\u001b[39m _process_traceback_frames(e\u001b[39m.\u001b[39m__traceback__)\n",
      "File \u001b[1;32mc:\\Users\\lokes\\anaconda3\\envs\\tf-gpu\\lib\\site-packages\\tensorflow\\python\\eager\\def_function.py:915\u001b[0m, in \u001b[0;36mFunction.__call__\u001b[1;34m(self, *args, **kwds)\u001b[0m\n\u001b[0;32m    912\u001b[0m compiler \u001b[39m=\u001b[39m \u001b[39m\"\u001b[39m\u001b[39mxla\u001b[39m\u001b[39m\"\u001b[39m \u001b[39mif\u001b[39;00m \u001b[39mself\u001b[39m\u001b[39m.\u001b[39m_jit_compile \u001b[39melse\u001b[39;00m \u001b[39m\"\u001b[39m\u001b[39mnonXla\u001b[39m\u001b[39m\"\u001b[39m\n\u001b[0;32m    914\u001b[0m \u001b[39mwith\u001b[39;00m OptionalXlaContext(\u001b[39mself\u001b[39m\u001b[39m.\u001b[39m_jit_compile):\n\u001b[1;32m--> 915\u001b[0m   result \u001b[39m=\u001b[39m \u001b[39mself\u001b[39m\u001b[39m.\u001b[39m_call(\u001b[39m*\u001b[39margs, \u001b[39m*\u001b[39m\u001b[39m*\u001b[39mkwds)\n\u001b[0;32m    917\u001b[0m new_tracing_count \u001b[39m=\u001b[39m \u001b[39mself\u001b[39m\u001b[39m.\u001b[39mexperimental_get_tracing_count()\n\u001b[0;32m    918\u001b[0m without_tracing \u001b[39m=\u001b[39m (tracing_count \u001b[39m==\u001b[39m new_tracing_count)\n",
      "File \u001b[1;32mc:\\Users\\lokes\\anaconda3\\envs\\tf-gpu\\lib\\site-packages\\tensorflow\\python\\eager\\def_function.py:947\u001b[0m, in \u001b[0;36mFunction._call\u001b[1;34m(self, *args, **kwds)\u001b[0m\n\u001b[0;32m    944\u001b[0m   \u001b[39mself\u001b[39m\u001b[39m.\u001b[39m_lock\u001b[39m.\u001b[39mrelease()\n\u001b[0;32m    945\u001b[0m   \u001b[39m# In this case we have created variables on the first call, so we run the\u001b[39;00m\n\u001b[0;32m    946\u001b[0m   \u001b[39m# defunned version which is guaranteed to never create variables.\u001b[39;00m\n\u001b[1;32m--> 947\u001b[0m   \u001b[39mreturn\u001b[39;00m \u001b[39mself\u001b[39m\u001b[39m.\u001b[39m_stateless_fn(\u001b[39m*\u001b[39margs, \u001b[39m*\u001b[39m\u001b[39m*\u001b[39mkwds)  \u001b[39m# pylint: disable=not-callable\u001b[39;00m\n\u001b[0;32m    948\u001b[0m \u001b[39melif\u001b[39;00m \u001b[39mself\u001b[39m\u001b[39m.\u001b[39m_stateful_fn \u001b[39mis\u001b[39;00m \u001b[39mnot\u001b[39;00m \u001b[39mNone\u001b[39;00m:\n\u001b[0;32m    949\u001b[0m   \u001b[39m# Release the lock early so that multiple threads can perform the call\u001b[39;00m\n\u001b[0;32m    950\u001b[0m   \u001b[39m# in parallel.\u001b[39;00m\n\u001b[0;32m    951\u001b[0m   \u001b[39mself\u001b[39m\u001b[39m.\u001b[39m_lock\u001b[39m.\u001b[39mrelease()\n",
      "File \u001b[1;32mc:\\Users\\lokes\\anaconda3\\envs\\tf-gpu\\lib\\site-packages\\tensorflow\\python\\eager\\function.py:2496\u001b[0m, in \u001b[0;36mFunction.__call__\u001b[1;34m(self, *args, **kwargs)\u001b[0m\n\u001b[0;32m   2493\u001b[0m \u001b[39mwith\u001b[39;00m \u001b[39mself\u001b[39m\u001b[39m.\u001b[39m_lock:\n\u001b[0;32m   2494\u001b[0m   (graph_function,\n\u001b[0;32m   2495\u001b[0m    filtered_flat_args) \u001b[39m=\u001b[39m \u001b[39mself\u001b[39m\u001b[39m.\u001b[39m_maybe_define_function(args, kwargs)\n\u001b[1;32m-> 2496\u001b[0m \u001b[39mreturn\u001b[39;00m graph_function\u001b[39m.\u001b[39;49m_call_flat(\n\u001b[0;32m   2497\u001b[0m     filtered_flat_args, captured_inputs\u001b[39m=\u001b[39;49mgraph_function\u001b[39m.\u001b[39;49mcaptured_inputs)\n",
      "File \u001b[1;32mc:\\Users\\lokes\\anaconda3\\envs\\tf-gpu\\lib\\site-packages\\tensorflow\\python\\eager\\function.py:1862\u001b[0m, in \u001b[0;36mConcreteFunction._call_flat\u001b[1;34m(self, args, captured_inputs, cancellation_manager)\u001b[0m\n\u001b[0;32m   1858\u001b[0m possible_gradient_type \u001b[39m=\u001b[39m gradients_util\u001b[39m.\u001b[39mPossibleTapeGradientTypes(args)\n\u001b[0;32m   1859\u001b[0m \u001b[39mif\u001b[39;00m (possible_gradient_type \u001b[39m==\u001b[39m gradients_util\u001b[39m.\u001b[39mPOSSIBLE_GRADIENT_TYPES_NONE\n\u001b[0;32m   1860\u001b[0m     \u001b[39mand\u001b[39;00m executing_eagerly):\n\u001b[0;32m   1861\u001b[0m   \u001b[39m# No tape is watching; skip to running the function.\u001b[39;00m\n\u001b[1;32m-> 1862\u001b[0m   \u001b[39mreturn\u001b[39;00m \u001b[39mself\u001b[39m\u001b[39m.\u001b[39m_build_call_outputs(\u001b[39mself\u001b[39;49m\u001b[39m.\u001b[39;49m_inference_function\u001b[39m.\u001b[39;49mcall(\n\u001b[0;32m   1863\u001b[0m       ctx, args, cancellation_manager\u001b[39m=\u001b[39;49mcancellation_manager))\n\u001b[0;32m   1864\u001b[0m forward_backward \u001b[39m=\u001b[39m \u001b[39mself\u001b[39m\u001b[39m.\u001b[39m_select_forward_and_backward_functions(\n\u001b[0;32m   1865\u001b[0m     args,\n\u001b[0;32m   1866\u001b[0m     possible_gradient_type,\n\u001b[0;32m   1867\u001b[0m     executing_eagerly)\n\u001b[0;32m   1868\u001b[0m forward_function, args_with_tangents \u001b[39m=\u001b[39m forward_backward\u001b[39m.\u001b[39mforward()\n",
      "File \u001b[1;32mc:\\Users\\lokes\\anaconda3\\envs\\tf-gpu\\lib\\site-packages\\tensorflow\\python\\eager\\function.py:499\u001b[0m, in \u001b[0;36m_EagerDefinedFunction.call\u001b[1;34m(self, ctx, args, cancellation_manager)\u001b[0m\n\u001b[0;32m    497\u001b[0m \u001b[39mwith\u001b[39;00m _InterpolateFunctionError(\u001b[39mself\u001b[39m):\n\u001b[0;32m    498\u001b[0m   \u001b[39mif\u001b[39;00m cancellation_manager \u001b[39mis\u001b[39;00m \u001b[39mNone\u001b[39;00m:\n\u001b[1;32m--> 499\u001b[0m     outputs \u001b[39m=\u001b[39m execute\u001b[39m.\u001b[39;49mexecute(\n\u001b[0;32m    500\u001b[0m         \u001b[39mstr\u001b[39;49m(\u001b[39mself\u001b[39;49m\u001b[39m.\u001b[39;49msignature\u001b[39m.\u001b[39;49mname),\n\u001b[0;32m    501\u001b[0m         num_outputs\u001b[39m=\u001b[39;49m\u001b[39mself\u001b[39;49m\u001b[39m.\u001b[39;49m_num_outputs,\n\u001b[0;32m    502\u001b[0m         inputs\u001b[39m=\u001b[39;49margs,\n\u001b[0;32m    503\u001b[0m         attrs\u001b[39m=\u001b[39;49mattrs,\n\u001b[0;32m    504\u001b[0m         ctx\u001b[39m=\u001b[39;49mctx)\n\u001b[0;32m    505\u001b[0m   \u001b[39melse\u001b[39;00m:\n\u001b[0;32m    506\u001b[0m     outputs \u001b[39m=\u001b[39m execute\u001b[39m.\u001b[39mexecute_with_cancellation(\n\u001b[0;32m    507\u001b[0m         \u001b[39mstr\u001b[39m(\u001b[39mself\u001b[39m\u001b[39m.\u001b[39msignature\u001b[39m.\u001b[39mname),\n\u001b[0;32m    508\u001b[0m         num_outputs\u001b[39m=\u001b[39m\u001b[39mself\u001b[39m\u001b[39m.\u001b[39m_num_outputs,\n\u001b[1;32m   (...)\u001b[0m\n\u001b[0;32m    511\u001b[0m         ctx\u001b[39m=\u001b[39mctx,\n\u001b[0;32m    512\u001b[0m         cancellation_manager\u001b[39m=\u001b[39mcancellation_manager)\n",
      "File \u001b[1;32mc:\\Users\\lokes\\anaconda3\\envs\\tf-gpu\\lib\\site-packages\\tensorflow\\python\\eager\\execute.py:54\u001b[0m, in \u001b[0;36mquick_execute\u001b[1;34m(op_name, num_outputs, inputs, attrs, ctx, name)\u001b[0m\n\u001b[0;32m     52\u001b[0m \u001b[39mtry\u001b[39;00m:\n\u001b[0;32m     53\u001b[0m   ctx\u001b[39m.\u001b[39mensure_initialized()\n\u001b[1;32m---> 54\u001b[0m   tensors \u001b[39m=\u001b[39m pywrap_tfe\u001b[39m.\u001b[39;49mTFE_Py_Execute(ctx\u001b[39m.\u001b[39;49m_handle, device_name, op_name,\n\u001b[0;32m     55\u001b[0m                                       inputs, attrs, num_outputs)\n\u001b[0;32m     56\u001b[0m \u001b[39mexcept\u001b[39;00m core\u001b[39m.\u001b[39m_NotOkStatusException \u001b[39mas\u001b[39;00m e:\n\u001b[0;32m     57\u001b[0m   \u001b[39mif\u001b[39;00m name \u001b[39mis\u001b[39;00m \u001b[39mnot\u001b[39;00m \u001b[39mNone\u001b[39;00m:\n",
      "\u001b[1;31mKeyboardInterrupt\u001b[0m: "
     ]
    }
   ],
   "source": [
    "inp = Input(name='inputs',shape=[maxlen,])\n",
    "\n",
    "layer = Embedding(max_features,50,input_length=maxlen)(inp)\n",
    "x = LSTM(128,return_sequences=True,dropout=0.15)(layer)\n",
    "x = LSTM(128,return_sequences=True,dropout=0.15)(x)\n",
    "x = Conv1D(64,kernel_size=3,padding='valid',kernel_initializer='glorot_uniform')(x)\n",
    "\n",
    "avg_pool = GlobalAveragePooling1D()(x)\n",
    "max_pool = GlobalMaxPooling1D()(x)\n",
    "x = concatenate([avg_pool,max_pool])\n",
    "\n",
    "out = Dense(3,activation='softmax')(x)\n",
    "\n",
    "model2 = Model(inp,out)\n",
    "model2.compile(loss='categorical_crossentropy',optimizer='adam',metrics=['accuracy'])\n",
    "\n",
    "model2.fit(train_x, train_y, batch_size=32, epochs=5, verbose=1,validation_data=[trainxval,train_yval])"
   ]
  },
  {
   "attachments": {},
   "cell_type": "markdown",
   "metadata": {},
   "source": [
    "# Bidirectional LSTM model for Language-English (Unbalanced Data)"
   ]
  },
  {
   "cell_type": "code",
   "execution_count": 18,
   "metadata": {},
   "outputs": [
    {
     "name": "stdout",
     "output_type": "stream",
     "text": [
      "Epoch 1/5\n",
      " 16/223 [=>............................] - ETA: 2:20 - loss: 0.9127 - accuracy: 0.6582"
     ]
    },
    {
     "ename": "KeyboardInterrupt",
     "evalue": "",
     "output_type": "error",
     "traceback": [
      "\u001b[1;31m---------------------------------------------------------------------------\u001b[0m",
      "\u001b[1;31mKeyboardInterrupt\u001b[0m                         Traceback (most recent call last)",
      "Cell \u001b[1;32mIn[18], line 17\u001b[0m\n\u001b[0;32m     14\u001b[0m model \u001b[39m=\u001b[39m Model(inp,out)\n\u001b[0;32m     15\u001b[0m model\u001b[39m.\u001b[39mcompile(loss\u001b[39m=\u001b[39m\u001b[39m'\u001b[39m\u001b[39mcategorical_crossentropy\u001b[39m\u001b[39m'\u001b[39m,optimizer\u001b[39m=\u001b[39m\u001b[39m'\u001b[39m\u001b[39madam\u001b[39m\u001b[39m'\u001b[39m,metrics\u001b[39m=\u001b[39m[\u001b[39m'\u001b[39m\u001b[39maccuracy\u001b[39m\u001b[39m'\u001b[39m])\n\u001b[1;32m---> 17\u001b[0m model\u001b[39m.\u001b[39;49mfit(train_x, train_y, batch_size\u001b[39m=\u001b[39;49m\u001b[39m32\u001b[39;49m, epochs\u001b[39m=\u001b[39;49m\u001b[39m5\u001b[39;49m, verbose\u001b[39m=\u001b[39;49m\u001b[39m1\u001b[39;49m,validation_data\u001b[39m=\u001b[39;49m[trainxval,train_yval])\n",
      "File \u001b[1;32mc:\\Users\\lokes\\anaconda3\\envs\\tf-gpu\\lib\\site-packages\\keras\\utils\\traceback_utils.py:65\u001b[0m, in \u001b[0;36mfilter_traceback.<locals>.error_handler\u001b[1;34m(*args, **kwargs)\u001b[0m\n\u001b[0;32m     63\u001b[0m filtered_tb \u001b[39m=\u001b[39m \u001b[39mNone\u001b[39;00m\n\u001b[0;32m     64\u001b[0m \u001b[39mtry\u001b[39;00m:\n\u001b[1;32m---> 65\u001b[0m     \u001b[39mreturn\u001b[39;00m fn(\u001b[39m*\u001b[39margs, \u001b[39m*\u001b[39m\u001b[39m*\u001b[39mkwargs)\n\u001b[0;32m     66\u001b[0m \u001b[39mexcept\u001b[39;00m \u001b[39mException\u001b[39;00m \u001b[39mas\u001b[39;00m e:\n\u001b[0;32m     67\u001b[0m     filtered_tb \u001b[39m=\u001b[39m _process_traceback_frames(e\u001b[39m.\u001b[39m__traceback__)\n",
      "File \u001b[1;32mc:\\Users\\lokes\\anaconda3\\envs\\tf-gpu\\lib\\site-packages\\keras\\engine\\training.py:1564\u001b[0m, in \u001b[0;36mModel.fit\u001b[1;34m(self, x, y, batch_size, epochs, verbose, callbacks, validation_split, validation_data, shuffle, class_weight, sample_weight, initial_epoch, steps_per_epoch, validation_steps, validation_batch_size, validation_freq, max_queue_size, workers, use_multiprocessing)\u001b[0m\n\u001b[0;32m   1556\u001b[0m \u001b[39mwith\u001b[39;00m tf\u001b[39m.\u001b[39mprofiler\u001b[39m.\u001b[39mexperimental\u001b[39m.\u001b[39mTrace(\n\u001b[0;32m   1557\u001b[0m     \u001b[39m\"\u001b[39m\u001b[39mtrain\u001b[39m\u001b[39m\"\u001b[39m,\n\u001b[0;32m   1558\u001b[0m     epoch_num\u001b[39m=\u001b[39mepoch,\n\u001b[1;32m   (...)\u001b[0m\n\u001b[0;32m   1561\u001b[0m     _r\u001b[39m=\u001b[39m\u001b[39m1\u001b[39m,\n\u001b[0;32m   1562\u001b[0m ):\n\u001b[0;32m   1563\u001b[0m     callbacks\u001b[39m.\u001b[39mon_train_batch_begin(step)\n\u001b[1;32m-> 1564\u001b[0m     tmp_logs \u001b[39m=\u001b[39m \u001b[39mself\u001b[39;49m\u001b[39m.\u001b[39;49mtrain_function(iterator)\n\u001b[0;32m   1565\u001b[0m     \u001b[39mif\u001b[39;00m data_handler\u001b[39m.\u001b[39mshould_sync:\n\u001b[0;32m   1566\u001b[0m         context\u001b[39m.\u001b[39masync_wait()\n",
      "File \u001b[1;32mc:\\Users\\lokes\\anaconda3\\envs\\tf-gpu\\lib\\site-packages\\tensorflow\\python\\util\\traceback_utils.py:150\u001b[0m, in \u001b[0;36mfilter_traceback.<locals>.error_handler\u001b[1;34m(*args, **kwargs)\u001b[0m\n\u001b[0;32m    148\u001b[0m filtered_tb \u001b[39m=\u001b[39m \u001b[39mNone\u001b[39;00m\n\u001b[0;32m    149\u001b[0m \u001b[39mtry\u001b[39;00m:\n\u001b[1;32m--> 150\u001b[0m   \u001b[39mreturn\u001b[39;00m fn(\u001b[39m*\u001b[39margs, \u001b[39m*\u001b[39m\u001b[39m*\u001b[39mkwargs)\n\u001b[0;32m    151\u001b[0m \u001b[39mexcept\u001b[39;00m \u001b[39mException\u001b[39;00m \u001b[39mas\u001b[39;00m e:\n\u001b[0;32m    152\u001b[0m   filtered_tb \u001b[39m=\u001b[39m _process_traceback_frames(e\u001b[39m.\u001b[39m__traceback__)\n",
      "File \u001b[1;32mc:\\Users\\lokes\\anaconda3\\envs\\tf-gpu\\lib\\site-packages\\tensorflow\\python\\eager\\def_function.py:915\u001b[0m, in \u001b[0;36mFunction.__call__\u001b[1;34m(self, *args, **kwds)\u001b[0m\n\u001b[0;32m    912\u001b[0m compiler \u001b[39m=\u001b[39m \u001b[39m\"\u001b[39m\u001b[39mxla\u001b[39m\u001b[39m\"\u001b[39m \u001b[39mif\u001b[39;00m \u001b[39mself\u001b[39m\u001b[39m.\u001b[39m_jit_compile \u001b[39melse\u001b[39;00m \u001b[39m\"\u001b[39m\u001b[39mnonXla\u001b[39m\u001b[39m\"\u001b[39m\n\u001b[0;32m    914\u001b[0m \u001b[39mwith\u001b[39;00m OptionalXlaContext(\u001b[39mself\u001b[39m\u001b[39m.\u001b[39m_jit_compile):\n\u001b[1;32m--> 915\u001b[0m   result \u001b[39m=\u001b[39m \u001b[39mself\u001b[39m\u001b[39m.\u001b[39m_call(\u001b[39m*\u001b[39margs, \u001b[39m*\u001b[39m\u001b[39m*\u001b[39mkwds)\n\u001b[0;32m    917\u001b[0m new_tracing_count \u001b[39m=\u001b[39m \u001b[39mself\u001b[39m\u001b[39m.\u001b[39mexperimental_get_tracing_count()\n\u001b[0;32m    918\u001b[0m without_tracing \u001b[39m=\u001b[39m (tracing_count \u001b[39m==\u001b[39m new_tracing_count)\n",
      "File \u001b[1;32mc:\\Users\\lokes\\anaconda3\\envs\\tf-gpu\\lib\\site-packages\\tensorflow\\python\\eager\\def_function.py:947\u001b[0m, in \u001b[0;36mFunction._call\u001b[1;34m(self, *args, **kwds)\u001b[0m\n\u001b[0;32m    944\u001b[0m   \u001b[39mself\u001b[39m\u001b[39m.\u001b[39m_lock\u001b[39m.\u001b[39mrelease()\n\u001b[0;32m    945\u001b[0m   \u001b[39m# In this case we have created variables on the first call, so we run the\u001b[39;00m\n\u001b[0;32m    946\u001b[0m   \u001b[39m# defunned version which is guaranteed to never create variables.\u001b[39;00m\n\u001b[1;32m--> 947\u001b[0m   \u001b[39mreturn\u001b[39;00m \u001b[39mself\u001b[39m\u001b[39m.\u001b[39m_stateless_fn(\u001b[39m*\u001b[39margs, \u001b[39m*\u001b[39m\u001b[39m*\u001b[39mkwds)  \u001b[39m# pylint: disable=not-callable\u001b[39;00m\n\u001b[0;32m    948\u001b[0m \u001b[39melif\u001b[39;00m \u001b[39mself\u001b[39m\u001b[39m.\u001b[39m_stateful_fn \u001b[39mis\u001b[39;00m \u001b[39mnot\u001b[39;00m \u001b[39mNone\u001b[39;00m:\n\u001b[0;32m    949\u001b[0m   \u001b[39m# Release the lock early so that multiple threads can perform the call\u001b[39;00m\n\u001b[0;32m    950\u001b[0m   \u001b[39m# in parallel.\u001b[39;00m\n\u001b[0;32m    951\u001b[0m   \u001b[39mself\u001b[39m\u001b[39m.\u001b[39m_lock\u001b[39m.\u001b[39mrelease()\n",
      "File \u001b[1;32mc:\\Users\\lokes\\anaconda3\\envs\\tf-gpu\\lib\\site-packages\\tensorflow\\python\\eager\\function.py:2496\u001b[0m, in \u001b[0;36mFunction.__call__\u001b[1;34m(self, *args, **kwargs)\u001b[0m\n\u001b[0;32m   2493\u001b[0m \u001b[39mwith\u001b[39;00m \u001b[39mself\u001b[39m\u001b[39m.\u001b[39m_lock:\n\u001b[0;32m   2494\u001b[0m   (graph_function,\n\u001b[0;32m   2495\u001b[0m    filtered_flat_args) \u001b[39m=\u001b[39m \u001b[39mself\u001b[39m\u001b[39m.\u001b[39m_maybe_define_function(args, kwargs)\n\u001b[1;32m-> 2496\u001b[0m \u001b[39mreturn\u001b[39;00m graph_function\u001b[39m.\u001b[39;49m_call_flat(\n\u001b[0;32m   2497\u001b[0m     filtered_flat_args, captured_inputs\u001b[39m=\u001b[39;49mgraph_function\u001b[39m.\u001b[39;49mcaptured_inputs)\n",
      "File \u001b[1;32mc:\\Users\\lokes\\anaconda3\\envs\\tf-gpu\\lib\\site-packages\\tensorflow\\python\\eager\\function.py:1862\u001b[0m, in \u001b[0;36mConcreteFunction._call_flat\u001b[1;34m(self, args, captured_inputs, cancellation_manager)\u001b[0m\n\u001b[0;32m   1858\u001b[0m possible_gradient_type \u001b[39m=\u001b[39m gradients_util\u001b[39m.\u001b[39mPossibleTapeGradientTypes(args)\n\u001b[0;32m   1859\u001b[0m \u001b[39mif\u001b[39;00m (possible_gradient_type \u001b[39m==\u001b[39m gradients_util\u001b[39m.\u001b[39mPOSSIBLE_GRADIENT_TYPES_NONE\n\u001b[0;32m   1860\u001b[0m     \u001b[39mand\u001b[39;00m executing_eagerly):\n\u001b[0;32m   1861\u001b[0m   \u001b[39m# No tape is watching; skip to running the function.\u001b[39;00m\n\u001b[1;32m-> 1862\u001b[0m   \u001b[39mreturn\u001b[39;00m \u001b[39mself\u001b[39m\u001b[39m.\u001b[39m_build_call_outputs(\u001b[39mself\u001b[39;49m\u001b[39m.\u001b[39;49m_inference_function\u001b[39m.\u001b[39;49mcall(\n\u001b[0;32m   1863\u001b[0m       ctx, args, cancellation_manager\u001b[39m=\u001b[39;49mcancellation_manager))\n\u001b[0;32m   1864\u001b[0m forward_backward \u001b[39m=\u001b[39m \u001b[39mself\u001b[39m\u001b[39m.\u001b[39m_select_forward_and_backward_functions(\n\u001b[0;32m   1865\u001b[0m     args,\n\u001b[0;32m   1866\u001b[0m     possible_gradient_type,\n\u001b[0;32m   1867\u001b[0m     executing_eagerly)\n\u001b[0;32m   1868\u001b[0m forward_function, args_with_tangents \u001b[39m=\u001b[39m forward_backward\u001b[39m.\u001b[39mforward()\n",
      "File \u001b[1;32mc:\\Users\\lokes\\anaconda3\\envs\\tf-gpu\\lib\\site-packages\\tensorflow\\python\\eager\\function.py:499\u001b[0m, in \u001b[0;36m_EagerDefinedFunction.call\u001b[1;34m(self, ctx, args, cancellation_manager)\u001b[0m\n\u001b[0;32m    497\u001b[0m \u001b[39mwith\u001b[39;00m _InterpolateFunctionError(\u001b[39mself\u001b[39m):\n\u001b[0;32m    498\u001b[0m   \u001b[39mif\u001b[39;00m cancellation_manager \u001b[39mis\u001b[39;00m \u001b[39mNone\u001b[39;00m:\n\u001b[1;32m--> 499\u001b[0m     outputs \u001b[39m=\u001b[39m execute\u001b[39m.\u001b[39;49mexecute(\n\u001b[0;32m    500\u001b[0m         \u001b[39mstr\u001b[39;49m(\u001b[39mself\u001b[39;49m\u001b[39m.\u001b[39;49msignature\u001b[39m.\u001b[39;49mname),\n\u001b[0;32m    501\u001b[0m         num_outputs\u001b[39m=\u001b[39;49m\u001b[39mself\u001b[39;49m\u001b[39m.\u001b[39;49m_num_outputs,\n\u001b[0;32m    502\u001b[0m         inputs\u001b[39m=\u001b[39;49margs,\n\u001b[0;32m    503\u001b[0m         attrs\u001b[39m=\u001b[39;49mattrs,\n\u001b[0;32m    504\u001b[0m         ctx\u001b[39m=\u001b[39;49mctx)\n\u001b[0;32m    505\u001b[0m   \u001b[39melse\u001b[39;00m:\n\u001b[0;32m    506\u001b[0m     outputs \u001b[39m=\u001b[39m execute\u001b[39m.\u001b[39mexecute_with_cancellation(\n\u001b[0;32m    507\u001b[0m         \u001b[39mstr\u001b[39m(\u001b[39mself\u001b[39m\u001b[39m.\u001b[39msignature\u001b[39m.\u001b[39mname),\n\u001b[0;32m    508\u001b[0m         num_outputs\u001b[39m=\u001b[39m\u001b[39mself\u001b[39m\u001b[39m.\u001b[39m_num_outputs,\n\u001b[1;32m   (...)\u001b[0m\n\u001b[0;32m    511\u001b[0m         ctx\u001b[39m=\u001b[39mctx,\n\u001b[0;32m    512\u001b[0m         cancellation_manager\u001b[39m=\u001b[39mcancellation_manager)\n",
      "File \u001b[1;32mc:\\Users\\lokes\\anaconda3\\envs\\tf-gpu\\lib\\site-packages\\tensorflow\\python\\eager\\execute.py:54\u001b[0m, in \u001b[0;36mquick_execute\u001b[1;34m(op_name, num_outputs, inputs, attrs, ctx, name)\u001b[0m\n\u001b[0;32m     52\u001b[0m \u001b[39mtry\u001b[39;00m:\n\u001b[0;32m     53\u001b[0m   ctx\u001b[39m.\u001b[39mensure_initialized()\n\u001b[1;32m---> 54\u001b[0m   tensors \u001b[39m=\u001b[39m pywrap_tfe\u001b[39m.\u001b[39;49mTFE_Py_Execute(ctx\u001b[39m.\u001b[39;49m_handle, device_name, op_name,\n\u001b[0;32m     55\u001b[0m                                       inputs, attrs, num_outputs)\n\u001b[0;32m     56\u001b[0m \u001b[39mexcept\u001b[39;00m core\u001b[39m.\u001b[39m_NotOkStatusException \u001b[39mas\u001b[39;00m e:\n\u001b[0;32m     57\u001b[0m   \u001b[39mif\u001b[39;00m name \u001b[39mis\u001b[39;00m \u001b[39mnot\u001b[39;00m \u001b[39mNone\u001b[39;00m:\n",
      "\u001b[1;31mKeyboardInterrupt\u001b[0m: "
     ]
    }
   ],
   "source": [
    "inp = Input(name='inputs',shape=[maxlen,])\n",
    "\n",
    "layer = Embedding(max_features,50,input_length=maxlen)(inp)\n",
    "x = Bidirectional(LSTM(128,return_sequences=True,dropout=0.15))(layer)\n",
    "x = Bidirectional(LSTM(128,return_sequences=True,dropout=0.15))(x)\n",
    "x = Conv1D(64,kernel_size=3,padding='valid',kernel_initializer='glorot_uniform')(x)\n",
    "\n",
    "avg_pool = GlobalAveragePooling1D()(x)\n",
    "max_pool = GlobalMaxPooling1D()(x)\n",
    "x = concatenate([avg_pool,max_pool])\n",
    "\n",
    "out = Dense(3,activation='softmax')(x)\n",
    "\n",
    "model = Model(inp,out)\n",
    "model.compile(loss='categorical_crossentropy',optimizer='adam',metrics=['accuracy'])\n",
    "\n",
    "model.fit(train_x, train_y, batch_size=32, epochs=5, verbose=1,validation_data=[trainxval,train_yval])"
   ]
  },
  {
   "attachments": {},
   "cell_type": "markdown",
   "metadata": {},
   "source": [
    "# GRU model for Language-English (Unbalanced Data)"
   ]
  },
  {
   "cell_type": "code",
   "execution_count": null,
   "metadata": {},
   "outputs": [
    {
     "name": "stdout",
     "output_type": "stream",
     "text": [
      "Epoch 1/5\n",
      "223/223 [==============================] - 13s 47ms/step - loss: 0.7047 - accuracy: 0.7354 - val_loss: 0.5110 - val_accuracy: 0.8257\n",
      "Epoch 2/5\n",
      "223/223 [==============================] - 10s 46ms/step - loss: 0.3372 - accuracy: 0.8795 - val_loss: 0.3799 - val_accuracy: 0.8634\n",
      "Epoch 3/5\n",
      "223/223 [==============================] - 10s 44ms/step - loss: 0.1968 - accuracy: 0.9328 - val_loss: 0.4046 - val_accuracy: 0.8713\n",
      "Epoch 4/5\n",
      "223/223 [==============================] - 10s 43ms/step - loss: 0.1315 - accuracy: 0.9557 - val_loss: 0.4012 - val_accuracy: 0.8803\n",
      "Epoch 5/5\n",
      "223/223 [==============================] - 10s 43ms/step - loss: 0.1023 - accuracy: 0.9664 - val_loss: 0.4126 - val_accuracy: 0.8741\n"
     ]
    },
    {
     "data": {
      "text/plain": [
       "<keras.callbacks.History at 0x7fee8ebb8040>"
      ]
     },
     "execution_count": 42,
     "metadata": {},
     "output_type": "execute_result"
    }
   ],
   "source": [
    "inp = Input(name='inputs',shape=[maxlen,])\n",
    "\n",
    "layer = Embedding(max_features,50,input_length=maxlen)(inp)\n",
    "x = GRU(128,return_sequences=True,dropout=0.15)(layer)\n",
    "x = GRU(128,return_sequences=True,dropout=0.15)(x)\n",
    "x = Conv1D(64,kernel_size=3,padding='valid',kernel_initializer='glorot_uniform')(x)\n",
    "\n",
    "avg_pool = GlobalAveragePooling1D()(x)\n",
    "max_pool = GlobalMaxPooling1D()(x)\n",
    "x = concatenate([avg_pool,max_pool])\n",
    "\n",
    "out = Dense(3,activation='softmax')(x)\n",
    "\n",
    "model3 = Model(inp,out)\n",
    "model3.compile(loss='categorical_crossentropy',optimizer='adam',metrics=['accuracy'])\n",
    "\n",
    "model3.fit(train_x, train_y, batch_size=32, epochs=5, verbose=1,validation_data=[trainxval,train_yval])"
   ]
  },
  {
   "attachments": {},
   "cell_type": "markdown",
   "metadata": {},
   "source": [
    "# Downsampling Data"
   ]
  },
  {
   "cell_type": "code",
   "execution_count": null,
   "metadata": {},
   "outputs": [
    {
     "name": "stdout",
     "output_type": "stream",
     "text": [
      "Moderate cases:  901\n",
      "Not Depressed cases:  901\n",
      "Severe cases:  901\n"
     ]
    }
   ],
   "source": [
    "df=train[0:901]\n",
    "df2=train[6019:6920]\n",
    "df3=train[7990:]\n",
    "\n",
    "df = df[['Text_data', 'Label']]\n",
    "df2 = df2[['Text_data', 'Label']]\n",
    "df3 = df3[['Text_data', 'Label']]\n",
    "\n",
    "print(\"Moderate cases: \", str(len(df)))\n",
    "print(\"Not Depressed cases: \", str(len(df2)))\n",
    "print(\"Severe cases: \", str(len(df3)))\n",
    "\n",
    "data = pd.concat([df, df2, df3], axis=0).reset_index(drop=True)\n",
    "\n",
    "train_x = data['Text_data'].str.lower()\n",
    "train_y = data['Label']\n",
    "train_y = pd.get_dummies(train_y,columns=train_y).values"
   ]
  },
  {
   "cell_type": "code",
   "execution_count": null,
   "metadata": {},
   "outputs": [],
   "source": [
    "tokenizer = text.Tokenizer(num_words=max_features)\n",
    "tokenizer.fit_on_texts(list(train_x))\n",
    "\n",
    "train_x = tokenizer.texts_to_sequences(train_x)\n",
    "train_x = sequence.pad_sequences(train_x,maxlen=maxlen)\n",
    "\n",
    "train_x,trainxval,train_y,train_yval=train_test_split(train_x,train_y,test_size=0.2)"
   ]
  },
  {
   "attachments": {},
   "cell_type": "markdown",
   "metadata": {},
   "source": [
    "# Bidirectional LSTM model for Language-English (Downsampled Data)"
   ]
  },
  {
   "cell_type": "code",
   "execution_count": null,
   "metadata": {},
   "outputs": [
    {
     "name": "stdout",
     "output_type": "stream",
     "text": [
      "Epoch 1/5\n",
      "68/68 [==============================] - 14s 133ms/step - loss: 0.9077 - accuracy: 0.5435 - val_loss: 0.6414 - val_accuracy: 0.7597\n",
      "Epoch 2/5\n",
      "68/68 [==============================] - 9s 126ms/step - loss: 0.4756 - accuracy: 0.8085 - val_loss: 0.4356 - val_accuracy: 0.8743\n",
      "Epoch 3/5\n",
      "68/68 [==============================] - 8s 113ms/step - loss: 0.1976 - accuracy: 0.9329 - val_loss: 0.3511 - val_accuracy: 0.9131\n",
      "Epoch 4/5\n",
      "68/68 [==============================] - 8s 112ms/step - loss: 0.0774 - accuracy: 0.9773 - val_loss: 0.3572 - val_accuracy: 0.9020\n",
      "Epoch 5/5\n",
      "68/68 [==============================] - 8s 124ms/step - loss: 0.0410 - accuracy: 0.9917 - val_loss: 0.5721 - val_accuracy: 0.9076\n"
     ]
    },
    {
     "data": {
      "text/plain": [
       "<keras.callbacks.History at 0x7fee8e565f40>"
      ]
     },
     "execution_count": 45,
     "metadata": {},
     "output_type": "execute_result"
    }
   ],
   "source": [
    "inp = Input(name='inputs',shape=[maxlen,])\n",
    "\n",
    "layer = Embedding(max_features,50,input_length=maxlen)(inp)\n",
    "x = Bidirectional(LSTM(128,return_sequences=True,dropout=0.15))(layer)\n",
    "x = Bidirectional(LSTM(128,return_sequences=True,dropout=0.15))(x)\n",
    "x = Conv1D(64,kernel_size=3,padding='valid',kernel_initializer='glorot_uniform')(x)\n",
    "\n",
    "avg_pool = GlobalAveragePooling1D()(x)\n",
    "max_pool = GlobalMaxPooling1D()(x)\n",
    "x = concatenate([avg_pool,max_pool])\n",
    "\n",
    "out = Dense(3,activation='softmax')(x)\n",
    "\n",
    "model = Model(inp,out)\n",
    "model.compile(loss='categorical_crossentropy',optimizer='adam',metrics=['accuracy'])\n",
    "\n",
    "model.fit(train_x, train_y, batch_size=32, epochs=5, verbose=1,validation_data=[trainxval,train_yval])"
   ]
  },
  {
   "attachments": {},
   "cell_type": "markdown",
   "metadata": {},
   "source": [
    "# LSTM model for Language-English (Downsampled Data)"
   ]
  },
  {
   "cell_type": "code",
   "execution_count": null,
   "metadata": {},
   "outputs": [
    {
     "name": "stdout",
     "output_type": "stream",
     "text": [
      "Epoch 1/5\n",
      "68/68 [==============================] - 13s 113ms/step - loss: 0.9244 - accuracy: 0.5463 - val_loss: 0.6859 - val_accuracy: 0.6543\n",
      "Epoch 2/5\n",
      "68/68 [==============================] - 6s 92ms/step - loss: 0.5003 - accuracy: 0.7854 - val_loss: 0.4309 - val_accuracy: 0.8780\n",
      "Epoch 3/5\n",
      "68/68 [==============================] - 6s 87ms/step - loss: 0.2022 - accuracy: 0.9371 - val_loss: 0.4947 - val_accuracy: 0.9131\n",
      "Epoch 4/5\n",
      "68/68 [==============================] - 6s 84ms/step - loss: 0.0945 - accuracy: 0.9709 - val_loss: 0.4793 - val_accuracy: 0.9187\n",
      "Epoch 5/5\n",
      "68/68 [==============================] - 5s 80ms/step - loss: 0.0415 - accuracy: 0.9884 - val_loss: 0.5520 - val_accuracy: 0.9094\n"
     ]
    },
    {
     "data": {
      "text/plain": [
       "<keras.callbacks.History at 0x7fee8e263f70>"
      ]
     },
     "execution_count": 46,
     "metadata": {},
     "output_type": "execute_result"
    }
   ],
   "source": [
    "inp = Input(name='inputs',shape=[maxlen,])\n",
    "\n",
    "layer = Embedding(max_features,50,input_length=maxlen)(inp)\n",
    "x = Bidirectional(LSTM(128,return_sequences=True,dropout=0.15))(layer)\n",
    "x = Bidirectional(LSTM(128,return_sequences=True,dropout=0.15))(x)\n",
    "x = Conv1D(64,kernel_size=3,padding='valid',kernel_initializer='glorot_uniform')(x)\n",
    "\n",
    "avg_pool = GlobalAveragePooling1D()(x)\n",
    "max_pool = GlobalMaxPooling1D()(x)\n",
    "x = concatenate([avg_pool,max_pool])\n",
    "\n",
    "out = Dense(3,activation='softmax')(x)\n",
    "\n",
    "model = Model(inp,out)\n",
    "model.compile(loss='categorical_crossentropy',optimizer='adam',metrics=['accuracy'])\n",
    "\n",
    "model.fit(train_x, train_y, batch_size=32, epochs=5, verbose=1,validation_data=[trainxval,train_yval])"
   ]
  },
  {
   "attachments": {},
   "cell_type": "markdown",
   "metadata": {},
   "source": [
    "# GRU model for Language-English (Downsampled Data)"
   ]
  },
  {
   "cell_type": "code",
   "execution_count": null,
   "metadata": {},
   "outputs": [
    {
     "name": "stdout",
     "output_type": "stream",
     "text": [
      "Epoch 1/5\n",
      "68/68 [==============================] - 5s 51ms/step - loss: 0.9485 - accuracy: 0.5116 - val_loss: 0.8038 - val_accuracy: 0.6580\n",
      "Epoch 2/5\n",
      "68/68 [==============================] - 3s 40ms/step - loss: 0.5305 - accuracy: 0.7900 - val_loss: 0.5919 - val_accuracy: 0.7948\n",
      "Epoch 3/5\n",
      "68/68 [==============================] - 3s 38ms/step - loss: 0.3095 - accuracy: 0.9033 - val_loss: 0.4702 - val_accuracy: 0.8614\n",
      "Epoch 4/5\n",
      "68/68 [==============================] - 3s 41ms/step - loss: 0.1794 - accuracy: 0.9408 - val_loss: 0.4514 - val_accuracy: 0.9020\n",
      "Epoch 5/5\n",
      "68/68 [==============================] - 3s 42ms/step - loss: 0.1023 - accuracy: 0.9718 - val_loss: 0.5450 - val_accuracy: 0.8946\n"
     ]
    },
    {
     "data": {
      "text/plain": [
       "<keras.callbacks.History at 0x7fee8e13aca0>"
      ]
     },
     "execution_count": 47,
     "metadata": {},
     "output_type": "execute_result"
    }
   ],
   "source": [
    "inp = Input(name='inputs',shape=[maxlen,])\n",
    "\n",
    "layer = Embedding(max_features,50,input_length=maxlen)(inp)\n",
    "x = GRU(128,return_sequences=True,dropout=0.15)(layer)\n",
    "x = GRU(128,return_sequences=True,dropout=0.15)(x)\n",
    "x = Conv1D(64,kernel_size=3,padding='valid',kernel_initializer='glorot_uniform')(x)\n",
    "\n",
    "avg_pool = GlobalAveragePooling1D()(x)\n",
    "max_pool = GlobalMaxPooling1D()(x)\n",
    "x = concatenate([avg_pool,max_pool])\n",
    "\n",
    "out = Dense(3,activation='softmax')(x)\n",
    "\n",
    "model3 = Model(inp,out)\n",
    "model3.compile(loss='categorical_crossentropy',optimizer='adam',metrics=['accuracy'])\n",
    "\n",
    "model3.fit(train_x, train_y, batch_size=32, epochs=5, verbose=1,validation_data=[trainxval,train_yval])"
   ]
  },
  {
   "attachments": {},
   "cell_type": "markdown",
   "metadata": {},
   "source": [
    "# Upsampling"
   ]
  },
  {
   "cell_type": "code",
   "execution_count": null,
   "metadata": {},
   "outputs": [
    {
     "name": "stdout",
     "output_type": "stream",
     "text": [
      "(6019, 3)\n",
      "(1971, 3)\n",
      "(901, 3)\n"
     ]
    }
   ],
   "source": [
    "moderate_messages = train[train[\"Label\"] == \"moderate\"]\n",
    "no_messages  = train[train[\"Label\"] == \"not depression\"]\n",
    "severe_messages=train[train[\"Label\"] == \"severe\"]\n",
    "\n",
    "print(moderate_messages.shape)\n",
    "print(no_messages.shape)\n",
    "print(severe_messages.shape)"
   ]
  },
  {
   "cell_type": "code",
   "execution_count": null,
   "metadata": {},
   "outputs": [
    {
     "name": "stdout",
     "output_type": "stream",
     "text": [
      "(6019, 3)\n"
     ]
    }
   ],
   "source": [
    "from sklearn.utils import resample\n",
    "spam_upsample_nomes = resample(no_messages,\n",
    "             replace=True,\n",
    "             n_samples=len(moderate_messages),\n",
    "             random_state=42)\n",
    "\n",
    "print(spam_upsample_nomes.shape)"
   ]
  },
  {
   "cell_type": "code",
   "execution_count": null,
   "metadata": {},
   "outputs": [
    {
     "name": "stdout",
     "output_type": "stream",
     "text": [
      "(6019, 3)\n"
     ]
    }
   ],
   "source": [
    "from sklearn.utils import resample\n",
    "spam_upsample_severe = resample(severe_messages,\n",
    "             replace=True,\n",
    "             n_samples=len(moderate_messages),\n",
    "             random_state=42)\n",
    "\n",
    "print(spam_upsample_severe.shape)"
   ]
  },
  {
   "cell_type": "code",
   "execution_count": null,
   "metadata": {},
   "outputs": [],
   "source": [
    "data = pd.concat([moderate_messages, spam_upsample_severe, spam_upsample_nomes], axis=0).reset_index(drop=True)\n",
    "\n",
    "train_x = data['Text_data'].str.lower()\n",
    "train_y = data['Label']\n",
    "train_y = pd.get_dummies(train_y,columns=train_y).values"
   ]
  },
  {
   "cell_type": "code",
   "execution_count": null,
   "metadata": {},
   "outputs": [
    {
     "data": {
      "text/plain": [
       "moderate          6019\n",
       "severe            6019\n",
       "not depression    6019\n",
       "Name: Label, dtype: int64"
      ]
     },
     "execution_count": 80,
     "metadata": {},
     "output_type": "execute_result"
    }
   ],
   "source": [
    "data['Label'].value_counts()"
   ]
  },
  {
   "cell_type": "code",
   "execution_count": null,
   "metadata": {},
   "outputs": [],
   "source": [
    "tokenizer = text.Tokenizer(num_words=max_features)\n",
    "tokenizer.fit_on_texts(list(train_x))\n",
    "\n",
    "train_x = tokenizer.texts_to_sequences(train_x)\n",
    "train_x = sequence.pad_sequences(train_x,maxlen=maxlen)\n",
    "\n",
    "train_x,trainxval,train_y,train_yval=train_test_split(train_x,train_y,test_size=0.2)"
   ]
  },
  {
   "attachments": {},
   "cell_type": "markdown",
   "metadata": {},
   "source": [
    "# LSTM model for Language-English (Upsampled Data)"
   ]
  },
  {
   "cell_type": "code",
   "execution_count": null,
   "metadata": {},
   "outputs": [
    {
     "name": "stdout",
     "output_type": "stream",
     "text": [
      "Epoch 1/5\n",
      "452/452 [==============================] - 26s 52ms/step - loss: 0.5958 - accuracy: 0.7396 - val_loss: 0.2785 - val_accuracy: 0.8953\n",
      "Epoch 2/5\n",
      "452/452 [==============================] - 22s 49ms/step - loss: 0.1882 - accuracy: 0.9349 - val_loss: 0.1632 - val_accuracy: 0.9463\n",
      "Epoch 3/5\n",
      "452/452 [==============================] - 21s 47ms/step - loss: 0.0975 - accuracy: 0.9702 - val_loss: 0.1735 - val_accuracy: 0.9516\n",
      "Epoch 4/5\n",
      "452/452 [==============================] - 22s 48ms/step - loss: 0.0750 - accuracy: 0.9784 - val_loss: 0.1556 - val_accuracy: 0.9582\n",
      "Epoch 5/5\n",
      "452/452 [==============================] - 23s 50ms/step - loss: 0.0601 - accuracy: 0.9829 - val_loss: 0.1536 - val_accuracy: 0.9651\n"
     ]
    },
    {
     "data": {
      "text/plain": [
       "<keras.callbacks.History at 0x7feef8dad670>"
      ]
     },
     "execution_count": 77,
     "metadata": {},
     "output_type": "execute_result"
    }
   ],
   "source": [
    "inp = Input(name='inputs',shape=[maxlen,])\n",
    "\n",
    "layer = Embedding(max_features,50,input_length=maxlen)(inp)\n",
    "x = LSTM(128,return_sequences=True,dropout=0.15)(layer)\n",
    "x = LSTM(128,return_sequences=True,dropout=0.15)(x)\n",
    "x = Conv1D(64,kernel_size=3,padding='valid',kernel_initializer='glorot_uniform')(x)\n",
    "\n",
    "avg_pool = GlobalAveragePooling1D()(x)\n",
    "max_pool = GlobalMaxPooling1D()(x)\n",
    "x = concatenate([avg_pool,max_pool])\n",
    "\n",
    "out = Dense(3,activation='softmax')(x)\n",
    "\n",
    "model2 = Model(inp,out)\n",
    "model2.compile(loss='categorical_crossentropy',optimizer='adam',metrics=['accuracy'])\n",
    "\n",
    "model2.fit(train_x, train_y, batch_size=32, epochs=5, verbose=1,validation_data=[trainxval,train_yval])"
   ]
  },
  {
   "attachments": {},
   "cell_type": "markdown",
   "metadata": {},
   "source": [
    "# BiDirectional LSTM model for Language-English (Upsampled Data)"
   ]
  },
  {
   "cell_type": "code",
   "execution_count": null,
   "metadata": {},
   "outputs": [
    {
     "name": "stdout",
     "output_type": "stream",
     "text": [
      "Epoch 1/5\n",
      "452/452 [==============================] - 44s 89ms/step - loss: 0.5534 - accuracy: 0.7601 - val_loss: 0.2507 - val_accuracy: 0.9147\n",
      "Epoch 2/5\n",
      "452/452 [==============================] - 39s 85ms/step - loss: 0.1527 - accuracy: 0.9518 - val_loss: 0.1426 - val_accuracy: 0.9607\n",
      "Epoch 3/5\n",
      "452/452 [==============================] - 39s 87ms/step - loss: 0.0788 - accuracy: 0.9774 - val_loss: 0.1407 - val_accuracy: 0.9618\n",
      "Epoch 4/5\n",
      "452/452 [==============================] - 40s 88ms/step - loss: 0.0564 - accuracy: 0.9848 - val_loss: 0.1162 - val_accuracy: 0.9687\n",
      "Epoch 5/5\n",
      "452/452 [==============================] - 41s 91ms/step - loss: 0.0485 - accuracy: 0.9879 - val_loss: 0.1375 - val_accuracy: 0.9693\n"
     ]
    },
    {
     "data": {
      "text/plain": [
       "<keras.callbacks.History at 0x7feefb8a4eb0>"
      ]
     },
     "execution_count": 78,
     "metadata": {},
     "output_type": "execute_result"
    }
   ],
   "source": [
    "inp = Input(name='inputs',shape=[maxlen,])\n",
    "\n",
    "layer = Embedding(max_features,50,input_length=maxlen)(inp)\n",
    "x = Bidirectional(LSTM(128,return_sequences=True,dropout=0.15))(layer)\n",
    "x = Bidirectional(LSTM(128,return_sequences=True,dropout=0.15))(x)\n",
    "x = Conv1D(64,kernel_size=3,padding='valid',kernel_initializer='glorot_uniform')(x)\n",
    "\n",
    "avg_pool = GlobalAveragePooling1D()(x)\n",
    "max_pool = GlobalMaxPooling1D()(x)\n",
    "x = concatenate([avg_pool,max_pool])\n",
    "\n",
    "out = Dense(3,activation='softmax')(x)\n",
    "\n",
    "model = Model(inp,out)\n",
    "model.compile(loss='categorical_crossentropy',optimizer='adam',metrics=['accuracy'])\n",
    "\n",
    "model.fit(train_x, train_y, batch_size=32, epochs=5, verbose=1,validation_data=[trainxval,train_yval])"
   ]
  },
  {
   "attachments": {},
   "cell_type": "markdown",
   "metadata": {},
   "source": [
    "# GRU model for Language-English (Upsampled Data)"
   ]
  },
  {
   "cell_type": "code",
   "execution_count": null,
   "metadata": {},
   "outputs": [
    {
     "name": "stdout",
     "output_type": "stream",
     "text": [
      "Epoch 1/5\n",
      "452/452 [==============================] - 24s 47ms/step - loss: 0.5778 - accuracy: 0.7423 - val_loss: 0.2786 - val_accuracy: 0.9009\n",
      "Epoch 2/5\n",
      "452/452 [==============================] - 19s 42ms/step - loss: 0.1775 - accuracy: 0.9432 - val_loss: 0.1727 - val_accuracy: 0.9510\n",
      "Epoch 3/5\n",
      "452/452 [==============================] - 18s 41ms/step - loss: 0.0961 - accuracy: 0.9717 - val_loss: 0.1591 - val_accuracy: 0.9601\n",
      "Epoch 4/5\n",
      "452/452 [==============================] - 19s 42ms/step - loss: 0.0679 - accuracy: 0.9808 - val_loss: 0.1450 - val_accuracy: 0.9621\n",
      "Epoch 5/5\n",
      "452/452 [==============================] - 19s 41ms/step - loss: 0.0563 - accuracy: 0.9834 - val_loss: 0.1422 - val_accuracy: 0.9695\n"
     ]
    },
    {
     "data": {
      "text/plain": [
       "<keras.callbacks.History at 0x7feefb7224c0>"
      ]
     },
     "execution_count": 79,
     "metadata": {},
     "output_type": "execute_result"
    }
   ],
   "source": [
    "inp = Input(name='inputs',shape=[maxlen,])\n",
    "\n",
    "layer = Embedding(max_features,50,input_length=maxlen)(inp)\n",
    "x = GRU(128,return_sequences=True,dropout=0.15)(layer)\n",
    "x = GRU(128,return_sequences=True,dropout=0.15)(x)\n",
    "x = Conv1D(64,kernel_size=3,padding='valid',kernel_initializer='glorot_uniform')(x)\n",
    "\n",
    "avg_pool = GlobalAveragePooling1D()(x)\n",
    "max_pool = GlobalMaxPooling1D()(x)\n",
    "x = concatenate([avg_pool,max_pool])\n",
    "\n",
    "out = Dense(3,activation='softmax')(x)\n",
    "\n",
    "model3 = Model(inp,out)\n",
    "model3.compile(loss='categorical_crossentropy',optimizer='adam',metrics=['accuracy'])\n",
    "\n",
    "model3.fit(train_x, train_y, batch_size=32, epochs=5, verbose=1,validation_data=[trainxval,train_yval])"
   ]
  },
  {
   "attachments": {},
   "cell_type": "markdown",
   "metadata": {},
   "source": [
    "# Data Preprocessing for Language-Russian"
   ]
  },
  {
   "cell_type": "code",
   "execution_count": null,
   "metadata": {},
   "outputs": [
    {
     "data": {
      "text/html": [
       "<div>\n",
       "<style scoped>\n",
       "    .dataframe tbody tr th:only-of-type {\n",
       "        vertical-align: middle;\n",
       "    }\n",
       "\n",
       "    .dataframe tbody tr th {\n",
       "        vertical-align: top;\n",
       "    }\n",
       "\n",
       "    .dataframe thead th {\n",
       "        text-align: right;\n",
       "    }\n",
       "</style>\n",
       "<table border=\"1\" class=\"dataframe\">\n",
       "  <thead>\n",
       "    <tr style=\"text-align: right;\">\n",
       "      <th></th>\n",
       "      <th>text</th>\n",
       "      <th>label</th>\n",
       "      <th>age</th>\n",
       "    </tr>\n",
       "  </thead>\n",
       "  <tbody>\n",
       "    <tr>\n",
       "      <th>0</th>\n",
       "      <td>Когда-то я был добрым романтиком, который стре...</td>\n",
       "      <td>1</td>\n",
       "      <td>32.0</td>\n",
       "    </tr>\n",
       "    <tr>\n",
       "      <th>1</th>\n",
       "      <td>Здраствуйте! Я каждый день просыпаюсь с мыслью...</td>\n",
       "      <td>1</td>\n",
       "      <td>28.0</td>\n",
       "    </tr>\n",
       "    <tr>\n",
       "      <th>2</th>\n",
       "      <td>У меня проблемы с девушкой. Каждую ссору я не ...</td>\n",
       "      <td>1</td>\n",
       "      <td>16.0</td>\n",
       "    </tr>\n",
       "    <tr>\n",
       "      <th>3</th>\n",
       "      <td>Вся моя жизнь это один сплошной ад, в котором ...</td>\n",
       "      <td>1</td>\n",
       "      <td>32.0</td>\n",
       "    </tr>\n",
       "    <tr>\n",
       "      <th>4</th>\n",
       "      <td>Я хочу уснуть и не проснуться.каждый день одно...</td>\n",
       "      <td>1</td>\n",
       "      <td>14.0</td>\n",
       "    </tr>\n",
       "  </tbody>\n",
       "</table>\n",
       "</div>"
      ],
      "text/plain": [
       "                                                text  label   age\n",
       "0  Когда-то я был добрым романтиком, который стре...      1  32.0\n",
       "1  Здраствуйте! Я каждый день просыпаюсь с мыслью...      1  28.0\n",
       "2  У меня проблемы с девушкой. Каждую ссору я не ...      1  16.0\n",
       "3  Вся моя жизнь это один сплошной ад, в котором ...      1  32.0\n",
       "4  Я хочу уснуть и не проснуться.каждый день одно...      1  14.0"
      ]
     },
     "execution_count": 48,
     "metadata": {},
     "output_type": "execute_result"
    }
   ],
   "source": [
    "train = pd.read_csv(\"/mnt/c/Users/lokes/Downloads/Depressive data.csv\")\n",
    "train.head()"
   ]
  },
  {
   "cell_type": "code",
   "execution_count": null,
   "metadata": {},
   "outputs": [
    {
     "data": {
      "text/plain": [
       "0    32021\n",
       "1    32018\n",
       "Name: label, dtype: int64"
      ]
     },
     "execution_count": 49,
     "metadata": {},
     "output_type": "execute_result"
    }
   ],
   "source": [
    "train[\"label\"].value_counts()"
   ]
  },
  {
   "cell_type": "code",
   "execution_count": null,
   "metadata": {},
   "outputs": [
    {
     "data": {
      "text/plain": [
       "(64039, 2)"
      ]
     },
     "execution_count": 50,
     "metadata": {},
     "output_type": "execute_result"
    }
   ],
   "source": [
    "train_x = train[\"text\"]\n",
    "train_y = train[\"label\"]\n",
    "train_y = pd.get_dummies(train_y,columns=train_y).values\n",
    "train_y.shape"
   ]
  },
  {
   "cell_type": "code",
   "execution_count": null,
   "metadata": {},
   "outputs": [],
   "source": [
    "tokenizer = text.Tokenizer(num_words=max_features)\n",
    "tokenizer.fit_on_texts(list(train_x))\n",
    "\n",
    "train_x = tokenizer.texts_to_sequences(train_x)\n",
    "train_x = sequence.pad_sequences(train_x,maxlen=maxlen)\n",
    "\n",
    "train_x,trainxval,train_y,train_yval=train_test_split(train_x,train_y,test_size=0.2)"
   ]
  },
  {
   "attachments": {},
   "cell_type": "markdown",
   "metadata": {},
   "source": [
    "# LSTM model for Language-Russian"
   ]
  },
  {
   "cell_type": "code",
   "execution_count": null,
   "metadata": {},
   "outputs": [
    {
     "name": "stdout",
     "output_type": "stream",
     "text": [
      "401/401 [==============================] - 25s 57ms/step - loss: 0.1073 - accuracy: 0.9547 - val_loss: 0.0251 - val_accuracy: 0.9898\n"
     ]
    },
    {
     "data": {
      "text/plain": [
       "<keras.callbacks.History at 0x7fee5df4dc70>"
      ]
     },
     "execution_count": 52,
     "metadata": {},
     "output_type": "execute_result"
    }
   ],
   "source": [
    "inp = Input(name='inputs',shape=[maxlen,])\n",
    "\n",
    "layer = Embedding(max_features,50,input_length=maxlen)(inp)\n",
    "x = LSTM(128,return_sequences=True,dropout=0.4)(layer)\n",
    "x = LSTM(128,return_sequences=True,dropout=0.4)(x)\n",
    "x = Conv1D(64,kernel_size=3,padding='valid',kernel_initializer='glorot_uniform')(x)\n",
    "\n",
    "avg_pool = GlobalAveragePooling1D()(x)\n",
    "max_pool = GlobalMaxPooling1D()(x)\n",
    "x = concatenate([avg_pool,max_pool])\n",
    "\n",
    "out = Dense(2,activation='softmax')(x)\n",
    "\n",
    "model2 = Model(inp,out)\n",
    "model2.compile(loss='binary_crossentropy',optimizer='adam',metrics=['accuracy'])\n",
    "\n",
    "model2.fit(train_x, train_y, batch_size=128, epochs=1, verbose=1,validation_data=[trainxval,train_yval])"
   ]
  },
  {
   "attachments": {},
   "cell_type": "markdown",
   "metadata": {},
   "source": [
    "# BiDirectional LSTM model for Language-Russian"
   ]
  },
  {
   "cell_type": "code",
   "execution_count": null,
   "metadata": {},
   "outputs": [
    {
     "name": "stdout",
     "output_type": "stream",
     "text": [
      "401/401 [==============================] - 41s 92ms/step - loss: 0.0620 - accuracy: 0.9732 - val_loss: 0.0190 - val_accuracy: 0.9936\n"
     ]
    },
    {
     "data": {
      "text/plain": [
       "<keras.callbacks.History at 0x7fee3d5fdd60>"
      ]
     },
     "execution_count": 53,
     "metadata": {},
     "output_type": "execute_result"
    }
   ],
   "source": [
    "inp = Input(name='inputs',shape=[maxlen,])\n",
    "\n",
    "layer = Embedding(max_features,50,input_length=maxlen)(inp)\n",
    "x = Bidirectional(LSTM(128,return_sequences=True,dropout=0.4))(layer)\n",
    "x = Bidirectional(LSTM(128,return_sequences=True,dropout=0.4))(x)\n",
    "x = Conv1D(64,kernel_size=3,padding='valid',kernel_initializer='glorot_uniform')(x)\n",
    "\n",
    "avg_pool = GlobalAveragePooling1D()(x)\n",
    "max_pool = GlobalMaxPooling1D()(x)\n",
    "x = concatenate([avg_pool,max_pool])\n",
    "\n",
    "out = Dense(2,activation='softmax')(x)\n",
    "\n",
    "model = Model(inp,out)\n",
    "model.compile(loss='binary_crossentropy',optimizer='adam',metrics=['accuracy'])\n",
    "\n",
    "model.fit(train_x, train_y, batch_size=128, epochs=1, verbose=1,validation_data=[trainxval,train_yval])"
   ]
  },
  {
   "attachments": {},
   "cell_type": "markdown",
   "metadata": {},
   "source": [
    "# GRU model for Language-Russian"
   ]
  },
  {
   "cell_type": "code",
   "execution_count": null,
   "metadata": {},
   "outputs": [
    {
     "name": "stdout",
     "output_type": "stream",
     "text": [
      "401/401 [==============================] - 20s 44ms/step - loss: 0.1401 - accuracy: 0.9495 - val_loss: 0.0343 - val_accuracy: 0.9870\n"
     ]
    },
    {
     "data": {
      "text/plain": [
       "<keras.callbacks.History at 0x7fede3eee340>"
      ]
     },
     "execution_count": 54,
     "metadata": {},
     "output_type": "execute_result"
    }
   ],
   "source": [
    "inp = Input(name='inputs',shape=[maxlen,])\n",
    "\n",
    "layer = Embedding(max_features,50,input_length=maxlen)(inp)\n",
    "x = GRU(128,return_sequences=True,dropout=0.4)(layer)\n",
    "x = GRU(128,return_sequences=True,dropout=0.4)(x)\n",
    "x = Conv1D(64,kernel_size=3,padding='valid',kernel_initializer='glorot_uniform')(x)\n",
    "\n",
    "avg_pool = GlobalAveragePooling1D()(x)\n",
    "max_pool = GlobalMaxPooling1D()(x)\n",
    "x = concatenate([avg_pool,max_pool])\n",
    "\n",
    "out = Dense(2,activation='softmax')(x)\n",
    "\n",
    "model3 = Model(inp,out)\n",
    "model3.compile(loss='binary_crossentropy',optimizer='adam',metrics=['accuracy'])\n",
    "\n",
    "model3.fit(train_x, train_y, batch_size=128, epochs=1, verbose=1,validation_data=[trainxval,train_yval])"
   ]
  }
 ],
 "metadata": {
  "interpreter": {
   "hash": "916dbcbb3f70747c44a77c7bcd40155683ae19c65e1c03b4aa3499c5328201f1"
  },
  "kernelspec": {
   "display_name": "Python 3.8.10 64-bit",
   "language": "python",
   "name": "python3"
  },
  "language_info": {
   "codemirror_mode": {
    "name": "ipython",
    "version": 3
   },
   "file_extension": ".py",
   "mimetype": "text/x-python",
   "name": "python",
   "nbconvert_exporter": "python",
   "pygments_lexer": "ipython3",
   "version": "3.10.11"
  },
  "orig_nbformat": 4
 },
 "nbformat": 4,
 "nbformat_minor": 2
}
